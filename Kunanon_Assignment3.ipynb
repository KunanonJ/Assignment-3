{
  "nbformat": 4,
  "nbformat_minor": 0,
  "metadata": {
    "colab": {
      "name": "StockSelectionCompFinance.ipynb",
      "provenance": []
    },
    "kernelspec": {
      "name": "python3",
      "display_name": "Python 3.9.1 64-bit",
      "metadata": {
        "interpreter": {
          "hash": "ac2eaa0ea0ebeafcc7822e65e46aa9d4f966f30b695406963e145ea4a91cd4fc"
        }
      }
    }
  },
  "cells": [
    {
      "cell_type": "markdown",
      "metadata": {
        "id": "VMjP_pZMkEzs"
      },
      "source": [
        "# Assignment 3 \r\n",
        "Statistics for understanding the market\r\n",
        "\r\n"
      ]
    },
    {
      "cell_type": "markdown",
      "metadata": {
        "id": "0IdGmp3kkXf4"
      },
      "source": [
        "In this assignment, your goal is to find the stocks that is well suited for your investment. The list below is the step-by-step to choose the stock."
      ]
    },
    {
      "cell_type": "markdown",
      "metadata": {
        "id": "Ons3z71UklhC"
      },
      "source": [
        "1. Use Python to donwload the historical prices from Jaunary 1, 2020 to December 21, 2020 from Yahoo Finance. Here, we are interested in the top 48 stocks in the market. All symbols of all 48 stocks are given in the \"set48.txt\" attached with the assignment in Google Classroom. \r\n"
      ]
    },
    {
      "cell_type": "code",
      "execution_count": 1,
      "metadata": {},
      "outputs": [],
      "source": [
        "import csv \n",
        "from pandas_datareader import data\n",
        "import matplotlib.pyplot as plt\n",
        "import pandas as pd\n",
        "import numpy as np"
      ]
    },
    {
      "cell_type": "code",
      "metadata": {
        "id": "COSJBnIfkEBo"
      },
      "source": [
        "top_list = ['ADVANC', 'AOT', 'BBL','BDMS','BEM', 'BGRIM','BH','BJC','BPP','BTS','CBG','CPALL','CPF','CPN','DTAC','EA','EGCO','GLOBAL','GPSC','GULF','HMPRO','INTUCH','IRPC','IVL','KBANK','KTB','KTC','LH','MINT','MTC','OSP','PTT','PTTEP','PTTGC','RATCH','SAWAD','SCB','SCC','TCAP','TISCO','TMB','TOA','TOP','TRUE','TTW','TU','VGI','WHA']\n",
        "top48 = dict()\n",
        "for stock in top_list:\n",
        "    df = data.DataReader(f\"{stock}.BK\", \"yahoo\", \"2020-01-01\", \"2020-12-31\") \n",
        "    ret = df['Adj Close'].pct_change(1).dropna()\n",
        "    top48[stock] = ret\n",
        "top48 = pd.DataFrame(top48)"
      ],
      "execution_count": 2,
      "outputs": []
    },
    {
      "cell_type": "markdown",
      "metadata": {
        "id": "5fO0XBiJled6"
      },
      "source": [
        "2. Next, you want to find the top **five** stocks with the highest average return. Please add the average annualized return (RET) of the top five stock by computing the average daily return and multiply with 250 (Here, we assume that there are 250 trading days in a year.). You must put your results by filling the blank below:\r\n",
        "The stocks are\r\n",
        "\r\n",
        "\r\n",
        "  1.  ______________________ with ________________ % of return\r\n",
        "  2.   ______________________ with ________________ % of return\r\n",
        "  3.   ______________________ with ________________ % of return\r\n",
        "  4.   ______________________ with ________________ % of return\r\n",
        "  5.   ______________________ with ________________ % of return\r\n"
      ]
    },
    {
      "cell_type": "code",
      "execution_count": 5,
      "metadata": {},
      "outputs": [
        {
          "output_type": "error",
          "ename": "SyntaxError",
          "evalue": "invalid syntax (<ipython-input-5-e8bed4259776>, line 12)",
          "traceback": [
            "\u001b[0;36m  File \u001b[0;32m\"<ipython-input-5-e8bed4259776>\"\u001b[0;36m, line \u001b[0;32m12\u001b[0m\n\u001b[0;31m    for stock in sorted(returned,key=lamdba x:d[x],reverse=True)\u001b[0m\n\u001b[0m                                            ^\u001b[0m\n\u001b[0;31mSyntaxError\u001b[0m\u001b[0;31m:\u001b[0m invalid syntax\n"
          ]
        }
      ],
      "source": [
        "top_list = ['ADVANC', 'AOT', 'BBL','BDMS','BEM', 'BGRIM','BH','BJC','BPP','BTS','CBG','CPALL','CPF','CPN','DTAC','EA','EGCO','GLOBAL','GPSC','GULF','HMPRO','INTUCH','IRPC','IVL','KBANK','KTB','KTC','LH','MINT','MTC','OSP','PTT','PTTEP','PTTGC','RATCH','SAWAD','SCB','SCC','TCAP','TISCO','TMB','TOA','TOP','TRUE','TTW','TU','VGI','WHA']\n",
        "top48 = dict()\n",
        "\n",
        "for stock in top_list:\n",
        "    try:\n",
        "        df = data.DataReader(f\"{stock}.BK\", \"yahoo\", \"2020-01-01\",\"2020-12-31\") \n",
        "        price = df.Close\n",
        "        ret = price.pct_change(1)\n",
        "        ret = ret.dropna()\n",
        "        day_in_year = 250\n",
        "        returned = day_in_year*ret.mean()*100\n",
        "        for stock in sorted(returned,key=lamdba x:d[x],reverse=True)\n",
        "            print(f\"{stock} with {returned:0.3f}% of return\")\n",
        "    except:\n",
        "        print(\"Date is out of range\")"
      ]
    },
    {
      "cell_type": "code",
      "execution_count": 6,
      "metadata": {},
      "outputs": [
        {
          "output_type": "stream",
          "name": "stdout",
          "text": [
            "ADVANC with -18.512% of return\n",
            "AOT with -7.412% of return\n",
            "BBL with -23.022% of return\n",
            "BDMS with -17.184% of return\n",
            "BEM with -20.408% of return\n",
            "BGRIM with 4.691% of return\n",
            "BH with -11.583% of return\n",
            "BJC with -6.499% of return\n",
            "BPP with -7.967% of return\n",
            "BTS with -29.101% of return\n",
            "CBG with 47.720% of return\n",
            "CPALL with -17.053% of return\n",
            "CPF with 4.665% of return\n",
            "CPN with -11.426% of return\n",
            "DTAC with -37.386% of return\n",
            "EA with 22.891% of return\n",
            "EGCO with -46.374% of return\n",
            "GLOBAL with 24.372% of return\n",
            "GPSC with -0.515% of return\n",
            "GULF with 13.517% of return\n",
            "HMPRO with -3.742% of return\n",
            "INTUCH with 0.410% of return\n",
            "IRPC with 9.666% of return\n",
            "IVL with 22.591% of return\n",
            "KBANK with -16.683% of return\n",
            "KTB with -32.995% of return\n",
            "KTC with 57.373% of return\n",
            "LH with -17.090% of return\n",
            "MINT with -11.450% of return\n",
            "MTC with 9.605% of return\n",
            "OSP with -3.232% of return\n",
            "PTT with 6.403% of return\n",
            "PTTEP with -6.837% of return\n",
            "PTTGC with 18.123% of return\n",
            "RATCH with -20.808% of return\n",
            "SAWAD with 16.278% of return\n",
            "SCB with -23.521% of return\n",
            "SCC with 2.448% of return\n",
            "TCAP with -34.051% of return\n",
            "TISCO with -6.372% of return\n",
            "TMB with -29.142% of return\n",
            "TOA with -8.259% of return\n",
            "TOP with -11.652% of return\n",
            "TRUE with -20.607% of return\n",
            "TTW with -5.320% of return\n",
            "TU with 8.251% of return\n",
            "VGI with -24.241% of return\n",
            "WHA with -9.629% of return\n"
          ]
        }
      ],
      "source": [
        "top_list = ['ADVANC', 'AOT', 'BBL','BDMS','BEM', 'BGRIM','BH','BJC','BPP','BTS','CBG','CPALL','CPF','CPN','DTAC','EA','EGCO','GLOBAL','GPSC','GULF','HMPRO','INTUCH','IRPC','IVL','KBANK','KTB','KTC','LH','MINT','MTC','OSP','PTT','PTTEP','PTTGC','RATCH','SAWAD','SCB','SCC','TCAP','TISCO','TMB','TOA','TOP','TRUE','TTW','TU','VGI','WHA']\n",
        "top48 = dict()\n",
        "\n",
        "for stock in top_list:\n",
        "    try:\n",
        "        df = data.DataReader(f\"{stock}.BK\", \"yahoo\", \"2020-01-01\",\"2020-12-31\") \n",
        "        price = df.Close\n",
        "        ret = price.pct_change(1)\n",
        "        ret = ret.dropna()\n",
        "        day_in_year = 250\n",
        "        returned = day_in_year*ret.mean()*100\n",
        "        print(f\"{stock} with {returned:0.3f}% of return\")\n",
        "    except:\n",
        "        print(\"Date is out of range\")"
      ]
    },
    {
      "cell_type": "markdown",
      "metadata": {
        "id": "jtgDUjCsmzzF"
      },
      "source": [
        "3. You also concern about the risk. As a result, you want stock with the lowest volatility. Here. the volatilities are measured by the standard deviations (STDs), Report stocks with the five lowest volatilities and compute their corresponding annualized STD by multiply the daily STD with the square root of 250.(√250  )  \n",
        "The stocks are \n",
        "  1.   ______ with ____ % of volatility\n",
        "  2.   ______ with ____ % of volatility\n",
        "  3.   ______ with ____ % of volatility\n",
        "  4.   ______ with ____ % of volatility\n",
        "  5.   ______ with ____ % of volatility"
      ]
    },
    {
      "cell_type": "code",
      "execution_count": 7,
      "metadata": {},
      "outputs": [
        {
          "output_type": "stream",
          "name": "stdout",
          "text": [
            "ADVANC with 25.081% of volatility\n",
            "AOT with 34.347% of volatility\n",
            "BBL with 31.823% of volatility\n",
            "BDMS with 34.205% of volatility\n",
            "BEM with 34.130% of volatility\n",
            "BGRIM with 50.256% of volatility\n",
            "BH with 33.928% of volatility\n",
            "BJC with 46.376% of volatility\n",
            "BPP with 37.888% of volatility\n",
            "BTS with 37.078% of volatility\n",
            "CBG with 46.490% of volatility\n",
            "CPALL with 23.583% of volatility\n",
            "CPF with 40.057% of volatility\n",
            "CPN with 42.673% of volatility\n",
            "DTAC with 42.937% of volatility\n",
            "EA with 45.965% of volatility\n",
            "EGCO with 38.345% of volatility\n",
            "GLOBAL with 47.946% of volatility\n",
            "GPSC with 43.728% of volatility\n",
            "GULF with 42.065% of volatility\n",
            "HMPRO with 45.187% of volatility\n",
            "INTUCH with 32.213% of volatility\n",
            "IRPC with 45.318% of volatility\n",
            "IVL with 55.823% of volatility\n",
            "KBANK with 36.107% of volatility\n",
            "KTB with 35.282% of volatility\n",
            "KTC with 48.728% of volatility\n",
            "LH with 36.792% of volatility\n",
            "MINT with 54.402% of volatility\n",
            "MTC with 55.945% of volatility\n",
            "OSP with 48.478% of volatility\n",
            "PTT with 36.422% of volatility\n",
            "PTTEP with 37.084% of volatility\n",
            "PTTGC with 44.861% of volatility\n",
            "RATCH with 35.275% of volatility\n",
            "SAWAD with 51.462% of volatility\n",
            "SCB with 32.745% of volatility\n",
            "SCC with 27.552% of volatility\n",
            "TCAP with 39.755% of volatility\n",
            "TISCO with 29.826% of volatility\n",
            "TMB with 48.864% of volatility\n",
            "TOA with 44.271% of volatility\n",
            "TOP with 47.211% of volatility\n",
            "TRUE with 39.812% of volatility\n",
            "TTW with 24.239% of volatility\n",
            "TU with 41.046% of volatility\n",
            "VGI with 58.966% of volatility\n",
            "WHA with 48.186% of volatility\n"
          ]
        }
      ],
      "source": [
        "for stock in top_list:\n",
        "    try:\n",
        "        df = data.DataReader(f\"{stock}.BK\", \"yahoo\", \"2020-01-01\",\"2020-12-31\") \n",
        "        high = df.High\n",
        "        low = df.Low\n",
        "        day_in_year = 250\n",
        "        vol_range = (np.log(high/low)**2).mean()\n",
        "        vol_range = vol_range/(4*np.log(2))\n",
        "        vol_range = np.sqrt(vol_range)\n",
        "        vol_range = np.sqrt(day_in_year) * vol_range\n",
        "        print(f\"{stock} with {vol_range * 100:0.3f}% of volatility\")\n",
        "    except:\n",
        "        print(\"Date is out of range\")"
      ]
    },
    {
      "cell_type": "markdown",
      "metadata": {
        "id": "cnPGnQ4Fo-6b"
      },
      "source": [
        "4. Furthermore, the volatility and return should be compared. A stock with the same level of return the one with lower volatility is more preferable. Thus, in this part, you will compute the coefficient of variation (CV) defined as (STD/RET). Here, a stock with lower CV is less volatile. However, we should look only the stock with positive return. Hence, find the op 5 stocks with the **lowest CV** and the **positive return**:\n",
        "\n",
        "The stocks are\n",
        "\n",
        "  1.   ______ with CV of ____ \n",
        "  2.   ______ with CV of ____ \n",
        "  3.   ______ with CV of ____ \n",
        "  4.   ______ with CV of ____ \n",
        "  5.   ______ with CV of ____ \n",
        "\n"
      ]
    },
    {
      "cell_type": "code",
      "execution_count": null,
      "metadata": {},
      "outputs": [],
      "source": []
    },
    {
      "cell_type": "markdown",
      "metadata": {
        "id": "N9igc9lyq29w"
      },
      "source": [
        "5. From the stock in Part 4. Use the stock with lowest CV and plot histogram of the annualized return.\r\n"
      ]
    },
    {
      "cell_type": "code",
      "metadata": {
        "id": "MOQu1SNAqzU2"
      },
      "source": [
        "# put your code for plot histogram and histogram here."
      ],
      "execution_count": 6,
      "outputs": []
    },
    {
      "cell_type": "markdown",
      "metadata": {
        "id": "lQ0ORUNarJ6e"
      },
      "source": [
        "6. The investment is risky. To control the risk, a good investor will diversify their portfolio with securities that have negative correlations. Find the two stocks with lowest (more negative) correlations \n",
        "\n",
        "Stock 1_________ Stock 2__________ with correlation of ___________________."
      ]
    },
    {
      "cell_type": "code",
      "metadata": {
        "id": "IVGtFmw8r0NN"
      },
      "source": [
        "# put your code fo finding stocks with lowest correlation here."
      ],
      "execution_count": 7,
      "outputs": []
    },
    {
      "cell_type": "markdown",
      "metadata": {
        "id": "g1THy2_tr9u0"
      },
      "source": [
        "7.From two stocks in Part 6. If an intestor invest 1 million THB on Stock 1 alone on January 1, 2020. How much money an investor has at the end of December 21, \n",
        "\n",
        "2020? Answer _______________________"
      ]
    },
    {
      "cell_type": "code",
      "metadata": {
        "id": "Xj4Q56Y_r9Cs"
      },
      "source": [
        "# put you code for 7 here."
      ],
      "execution_count": 8,
      "outputs": []
    },
    {
      "cell_type": "markdown",
      "metadata": {
        "id": "lMWDB1wwsdG3"
      },
      "source": [
        "8.From two stocks in Part 6. If an intestor invest 1 million THB on Stock 2 alone on January 1, 2020. How much money an investor has at the end of December 21, 2020? \n",
        "\n",
        "Answer _______________________"
      ]
    },
    {
      "cell_type": "code",
      "metadata": {
        "id": "sMO7Uzi0smBO"
      },
      "source": [
        "# put you code for 8 here."
      ],
      "execution_count": 9,
      "outputs": []
    },
    {
      "cell_type": "markdown",
      "metadata": {
        "id": "UDL3T_6Fsn5n"
      },
      "source": [
        "9.From two stocks in Part 6. If an intestor invest 0.5 million THB on Stock 1 and 0.5 million THB on Stock 2 on January 1, 2020. How much money an investor has at the end of December 21, 2020? \n",
        "\n",
        "Answer _________________"
      ]
    },
    {
      "cell_type": "code",
      "metadata": {
        "id": "4PqZkgGU6gG9"
      },
      "source": [
        "# put you code for 9 here."
      ],
      "execution_count": 10,
      "outputs": []
    }
  ]
}
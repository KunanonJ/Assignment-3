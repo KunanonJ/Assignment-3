{
 "cells": [
  {
   "cell_type": "markdown",
   "metadata": {
    "id": "VMjP_pZMkEzs"
   },
   "source": [
    "# Assignment 3 \n",
    "Statistics for understanding the market\n",
    "\n"
   ]
  },
  {
   "cell_type": "markdown",
   "metadata": {
    "id": "0IdGmp3kkXf4"
   },
   "source": [
    "In this assignment, your goal is to find the stocks that is well suited for your investment. The list below is the step-by-step to choose the stock."
   ]
  },
  {
   "cell_type": "markdown",
   "metadata": {
    "id": "Ons3z71UklhC"
   },
   "source": [
    "1. Use Python to donwload the historical prices from Jaunary 1, 2020 to December 21, 2020 from Yahoo Finance. Here, we are interested in the top 48 stocks in the market. All symbols of all 48 stocks are given in the \"set48.txt\" attached with the assignment in Google Classroom. \n"
   ]
  },
  {
   "cell_type": "code",
   "execution_count": 1,
   "metadata": {
    "id": "COSJBnIfkEBo"
   },
   "outputs": [],
   "source": [
    "import csv \n",
    "from pandas_datareader import data\n",
    "import matplotlib.pyplot as plt\n",
    "import pandas as pd\n",
    "import numpy as np"
   ]
  },
  {
   "cell_type": "code",
   "execution_count": 2,
   "metadata": {
    "id": "COSJBnIfkEBo"
   },
   "outputs": [],
   "source": [
    "set48 = ['ADVANC','AOT','BBL','BDMS','BEM','BGRIM','BH','BJC','BPP','BTS','CBG','CPALL','CPF','CPN','DTAC','EA','EGCO','GLOBAL','GPSC','GULF','HMPRO','INTUCH','IRPC','IVL','KBANK','KTB','KTC','LH','MINT','MTC','OSP','PTT','PTTEP','PTTGC','RATCH','SAWAD','SCB','SCC','TCAP','TISCO','TMB','TOA','TOP','TRUE','TTW','TU','VGI','WHA']"
   ]
  },
  {
   "cell_type": "code",
   "execution_count": 3,
   "metadata": {},
   "outputs": [],
   "source": [
    "for stock in set48:\n",
    "    df = data.DataReader(stock+\".BK\", \"yahoo\", \"2020-01-01\", \"2020-12-21\")"
   ]
  },
  {
   "cell_type": "markdown",
   "metadata": {
    "id": "5fO0XBiJled6"
   },
   "source": [
    "2. Next, you want to find the top **five** stocks with the highest average return. Please add the average annualized return (RET) of the top five stock by computing the average daily return and multiply with 250 (Here, we assume that there are 250 trading days in a year.). You must put your results by filling the blank below:\n",
    "The stocks are\n",
    "\n",
    "\n",
    "  1.  ______________________ with ________________ % of return\n",
    "  2.   ______________________ with ________________ % of return\n",
    "  3.   ______________________ with ________________ % of return\n",
    "  4.   ______________________ with ________________ % of return\n",
    "  5.   ______________________ with ________________ % of return\n"
   ]
  },
  {
   "cell_type": "code",
   "execution_count": 4,
   "metadata": {},
   "outputs": [
    {
     "output_type": "stream",
     "name": "stdout",
     "text": [
      "KTC with 48.78% of return\nCBG with 42.01% of return\nGLOBAL with 29.48% of return\nIVL with 20.45% of return\nPTTGC with 15.92% of return\n"
     ]
    }
   ],
   "source": [
    "hs = {}\n",
    "for stock in set48:\n",
    "    df = data.DataReader(stock+\".BK\", \"yahoo\", \"2020-01-01\", \"2020-12-21\") \n",
    "    daily_ret = df['Adj Close'].pct_change(1).dropna()\n",
    "    avg_ret = daily_ret.mean()\n",
    "    RET = avg_ret*250*100\n",
    "    if RET >= 0:\n",
    "        hs[stock] = RET\n",
    "        \n",
    "highest = sorted(hs.items(), key=lambda x: x[1], reverse = True)\n",
    "for i in highest[0:5]:\n",
    "    print(f'{i[0]} with {i[1]:.2f}% of return')"
   ]
  },
  {
   "cell_type": "markdown",
   "metadata": {
    "id": "jtgDUjCsmzzF"
   },
   "source": [
    "3. You also concern about the risk. As a result, you want stock with the lowest volatility. Here. the volatilities are measured by the standard deviations (STDs), Report stocks with the five lowest volatilities and compute their corresponding annualized STD by multiply the daily STD with the square root of 250.(√250  )  \n",
    "The stocks are \n",
    "  1.   ______ with ____ % of volatility\n",
    "  2.   ______ with ____ % of volatility\n",
    "  3.   ______ with ____ % of volatility\n",
    "  4.   ______ with ____ % of volatility\n",
    "  5.   ______ with ____ % of volatility"
   ]
  },
  {
   "cell_type": "code",
   "execution_count": 5,
   "metadata": {
    "id": "mR8QCIIQn9qT"
   },
   "outputs": [
    {
     "output_type": "stream",
     "name": "stdout",
     "text": [
      "CPALL with 26.30% of volatility\nTTW with 26.37% of volatility\nADVANC with 26.96% of volatility\nINTUCH with 29.99% of volatility\nSCC with 35.63% of volatility\n"
     ]
    }
   ],
   "source": [
    "st = {}\n",
    "for stock in set48:\n",
    "    df = data.DataReader(stock+\".BK\", \"yahoo\", \"2020-01-01\", \"2020-12-21\") \n",
    "    daily_ret = df['Adj Close'].pct_change(1).dropna()\n",
    "    std_ret = daily_ret.std()\n",
    "    vola = std_ret*np.sqrt(250)*100\n",
    "    st[stock] = vola\n",
    "        \n",
    "volatility = sorted(st.items(), key=lambda x: x[1])\n",
    "for i in volatility[0:5]:\n",
    "    print(f'{i[0]} with {i[1]:.2f}% of volatility')"
   ]
  },
  {
   "cell_type": "markdown",
   "metadata": {
    "id": "cnPGnQ4Fo-6b"
   },
   "source": [
    "4. Furthermore, the volatility and return should be compared. A stock with the same level of return the one with lower volatility is more preferable. Thus, in this part, you will compute the coefficient of variation (CV) defined as (STD/RET). Here, a stock with lower CV is less volatile. However, we should look only the stock with positive return. Hence, find the op 5 stocks with the **lowest CV** and the **positive return**:\n",
    "\n",
    "The stocks are\n",
    "  1.   ______ with CV of ____ \n",
    "  2.   ______ with CV of ____ \n",
    "  3.   ______ with CV of ____ \n",
    "  4.   ______ with CV of ____ \n",
    "  5.   ______ with CV of ____ \n",
    "\n"
   ]
  },
  {
   "cell_type": "code",
   "execution_count": 6,
   "metadata": {
    "id": "wImT3O_AoSE7"
   },
   "outputs": [
    {
     "output_type": "stream",
     "name": "stdout",
     "text": [
      "KTC with CV of 1.08\nCBG with CV of 1.28\nGLOBAL with CV of 1.78\nIVL with CV of 3.08\nPTTGC with CV of 3.85\n"
     ]
    }
   ],
   "source": [
    "cv = {}\n",
    "low_cv = []\n",
    "for stock in set48:\n",
    "    df = data.DataReader(stock+\".BK\", \"yahoo\", \"2020-01-01\", \"2020-12-21\") \n",
    "    daily_ret = df['Adj Close'].pct_change(1).dropna()\n",
    "    avg_ret = daily_ret.mean()\n",
    "    RET = avg_ret*250*100\n",
    "    std_ret = daily_ret.std()\n",
    "    vola = std_ret*np.sqrt(250)*100\n",
    "    coef = vola/RET\n",
    "    if coef>=0:\n",
    "        cv[stock] = coef\n",
    "        \n",
    "coef_var = sorted(cv.items(), key=lambda x: x[1])\n",
    "for i in coef_var[0:5]:\n",
    "    print(f'{i[0]} with CV of {i[1]:.2f}')\n",
    "    low_cv.append(i)"
   ]
  },
  {
   "cell_type": "markdown",
   "metadata": {
    "id": "N9igc9lyq29w"
   },
   "source": [
    "5. From the stock in Part 4. Use the stock with lowest CV and plot histogram of the annualized return.\n"
   ]
  },
  {
   "cell_type": "code",
   "execution_count": 7,
   "metadata": {
    "id": "MOQu1SNAqzU2"
   },
   "outputs": [
    {
     "output_type": "execute_result",
     "data": {
      "text/plain": [
       "(array([ 1.,  0.,  1.,  0.,  0.,  2.,  0.,  3.,  5., 12., 18., 48., 67.,\n",
       "        42., 19.,  8.,  4.,  2.,  1.,  2.]),\n",
       " array([-45.62044244, -41.86214767, -38.10385291, -34.34555814,\n",
       "        -30.58726337, -26.8289686 , -23.07067383, -19.31237906,\n",
       "        -15.55408429, -11.79578953,  -8.03749476,  -4.27919999,\n",
       "         -0.52090522,   3.23738955,   6.99568432,  10.75397908,\n",
       "         14.51227385,  18.27056862,  22.02886339,  25.78715816,\n",
       "         29.54545293]),\n",
       " <BarContainer object of 20 artists>)"
      ]
     },
     "metadata": {},
     "execution_count": 7
    },
    {
     "output_type": "display_data",
     "data": {
      "text/plain": "<Figure size 432x288 with 1 Axes>",
      "image/svg+xml": "<?xml version=\"1.0\" encoding=\"utf-8\" standalone=\"no\"?>\n<!DOCTYPE svg PUBLIC \"-//W3C//DTD SVG 1.1//EN\"\n  \"http://www.w3.org/Graphics/SVG/1.1/DTD/svg11.dtd\">\n<!-- Created with matplotlib (https://matplotlib.org/) -->\n<svg height=\"251.235553pt\" version=\"1.1\" viewBox=\"0 0 368.925 251.235553\" width=\"368.925pt\" xmlns=\"http://www.w3.org/2000/svg\" xmlns:xlink=\"http://www.w3.org/1999/xlink\">\n <metadata>\n  <rdf:RDF xmlns:cc=\"http://creativecommons.org/ns#\" xmlns:dc=\"http://purl.org/dc/elements/1.1/\" xmlns:rdf=\"http://www.w3.org/1999/02/22-rdf-syntax-ns#\">\n   <cc:Work>\n    <dc:type rdf:resource=\"http://purl.org/dc/dcmitype/StillImage\"/>\n    <dc:date>2021-02-26T20:03:04.265042</dc:date>\n    <dc:format>image/svg+xml</dc:format>\n    <dc:creator>\n     <cc:Agent>\n      <dc:title>Matplotlib v3.3.3, https://matplotlib.org/</dc:title>\n     </cc:Agent>\n    </dc:creator>\n   </cc:Work>\n  </rdf:RDF>\n </metadata>\n <defs>\n  <style type=\"text/css\">*{stroke-linecap:butt;stroke-linejoin:round;}</style>\n </defs>\n <g id=\"figure_1\">\n  <g id=\"patch_1\">\n   <path d=\"M -0 251.235553 \nL 368.925 251.235553 \nL 368.925 0 \nL -0 0 \nz\n\" style=\"fill:none;\"/>\n  </g>\n  <g id=\"axes_1\">\n   <g id=\"patch_2\">\n    <path d=\"M 26.925 227.357428 \nL 361.725 227.357428 \nL 361.725 9.917428 \nL 26.925 9.917428 \nz\n\" style=\"fill:#ffffff;\"/>\n   </g>\n   <g id=\"patch_3\">\n    <path clip-path=\"url(#p33f2fe3362)\" d=\"M 42.143182 227.357428 \nL 57.361364 227.357428 \nL 57.361364 224.266596 \nL 42.143182 224.266596 \nz\n\" style=\"fill:#1f77b4;\"/>\n   </g>\n   <g id=\"patch_4\">\n    <path clip-path=\"url(#p33f2fe3362)\" d=\"M 57.361364 227.357428 \nL 72.579545 227.357428 \nL 72.579545 227.357428 \nL 57.361364 227.357428 \nz\n\" style=\"fill:#1f77b4;\"/>\n   </g>\n   <g id=\"patch_5\">\n    <path clip-path=\"url(#p33f2fe3362)\" d=\"M 72.579545 227.357428 \nL 87.797727 227.357428 \nL 87.797727 224.266596 \nL 72.579545 224.266596 \nz\n\" style=\"fill:#1f77b4;\"/>\n   </g>\n   <g id=\"patch_6\">\n    <path clip-path=\"url(#p33f2fe3362)\" d=\"M 87.797727 227.357428 \nL 103.015909 227.357428 \nL 103.015909 227.357428 \nL 87.797727 227.357428 \nz\n\" style=\"fill:#1f77b4;\"/>\n   </g>\n   <g id=\"patch_7\">\n    <path clip-path=\"url(#p33f2fe3362)\" d=\"M 103.015909 227.357428 \nL 118.234091 227.357428 \nL 118.234091 227.357428 \nL 103.015909 227.357428 \nz\n\" style=\"fill:#1f77b4;\"/>\n   </g>\n   <g id=\"patch_8\">\n    <path clip-path=\"url(#p33f2fe3362)\" d=\"M 118.234091 227.357428 \nL 133.452273 227.357428 \nL 133.452273 221.175765 \nL 118.234091 221.175765 \nz\n\" style=\"fill:#1f77b4;\"/>\n   </g>\n   <g id=\"patch_9\">\n    <path clip-path=\"url(#p33f2fe3362)\" d=\"M 133.452273 227.357428 \nL 148.670455 227.357428 \nL 148.670455 227.357428 \nL 133.452273 227.357428 \nz\n\" style=\"fill:#1f77b4;\"/>\n   </g>\n   <g id=\"patch_10\">\n    <path clip-path=\"url(#p33f2fe3362)\" d=\"M 148.670455 227.357428 \nL 163.888636 227.357428 \nL 163.888636 218.084933 \nL 148.670455 218.084933 \nz\n\" style=\"fill:#1f77b4;\"/>\n   </g>\n   <g id=\"patch_11\">\n    <path clip-path=\"url(#p33f2fe3362)\" d=\"M 163.888636 227.357428 \nL 179.106818 227.357428 \nL 179.106818 211.90327 \nL 163.888636 211.90327 \nz\n\" style=\"fill:#1f77b4;\"/>\n   </g>\n   <g id=\"patch_12\">\n    <path clip-path=\"url(#p33f2fe3362)\" d=\"M 179.106818 227.357428 \nL 194.325 227.357428 \nL 194.325 190.267449 \nL 179.106818 190.267449 \nz\n\" style=\"fill:#1f77b4;\"/>\n   </g>\n   <g id=\"patch_13\">\n    <path clip-path=\"url(#p33f2fe3362)\" d=\"M 194.325 227.357428 \nL 209.543182 227.357428 \nL 209.543182 171.72246 \nL 194.325 171.72246 \nz\n\" style=\"fill:#1f77b4;\"/>\n   </g>\n   <g id=\"patch_14\">\n    <path clip-path=\"url(#p33f2fe3362)\" d=\"M 209.543182 227.357428 \nL 224.761364 227.357428 \nL 224.761364 78.997513 \nL 209.543182 78.997513 \nz\n\" style=\"fill:#1f77b4;\"/>\n   </g>\n   <g id=\"patch_15\">\n    <path clip-path=\"url(#p33f2fe3362)\" d=\"M 224.761364 227.357428 \nL 239.979545 227.357428 \nL 239.979545 20.271713 \nL 224.761364 20.271713 \nz\n\" style=\"fill:#1f77b4;\"/>\n   </g>\n   <g id=\"patch_16\">\n    <path clip-path=\"url(#p33f2fe3362)\" d=\"M 239.979545 227.357428 \nL 255.197727 227.357428 \nL 255.197727 97.542502 \nL 239.979545 97.542502 \nz\n\" style=\"fill:#1f77b4;\"/>\n   </g>\n   <g id=\"patch_17\">\n    <path clip-path=\"url(#p33f2fe3362)\" d=\"M 255.197727 227.357428 \nL 270.415909 227.357428 \nL 270.415909 168.631628 \nL 255.197727 168.631628 \nz\n\" style=\"fill:#1f77b4;\"/>\n   </g>\n   <g id=\"patch_18\">\n    <path clip-path=\"url(#p33f2fe3362)\" d=\"M 270.415909 227.357428 \nL 285.634091 227.357428 \nL 285.634091 202.630775 \nL 270.415909 202.630775 \nz\n\" style=\"fill:#1f77b4;\"/>\n   </g>\n   <g id=\"patch_19\">\n    <path clip-path=\"url(#p33f2fe3362)\" d=\"M 285.634091 227.357428 \nL 300.852273 227.357428 \nL 300.852273 214.994101 \nL 285.634091 214.994101 \nz\n\" style=\"fill:#1f77b4;\"/>\n   </g>\n   <g id=\"patch_20\">\n    <path clip-path=\"url(#p33f2fe3362)\" d=\"M 300.852273 227.357428 \nL 316.070455 227.357428 \nL 316.070455 221.175765 \nL 300.852273 221.175765 \nz\n\" style=\"fill:#1f77b4;\"/>\n   </g>\n   <g id=\"patch_21\">\n    <path clip-path=\"url(#p33f2fe3362)\" d=\"M 316.070455 227.357428 \nL 331.288636 227.357428 \nL 331.288636 224.266596 \nL 316.070455 224.266596 \nz\n\" style=\"fill:#1f77b4;\"/>\n   </g>\n   <g id=\"patch_22\">\n    <path clip-path=\"url(#p33f2fe3362)\" d=\"M 331.288636 227.357428 \nL 346.506818 227.357428 \nL 346.506818 221.175765 \nL 331.288636 221.175765 \nz\n\" style=\"fill:#1f77b4;\"/>\n   </g>\n   <g id=\"matplotlib.axis_1\">\n    <g id=\"xtick_1\">\n     <g id=\"line2d_1\">\n      <defs>\n       <path d=\"M 0 0 \nL 0 3.5 \n\" id=\"m1806531bd6\" style=\"stroke:#000000;stroke-width:0.8;\"/>\n      </defs>\n      <g>\n       <use style=\"stroke:#000000;stroke-width:0.8;\" x=\"64.901619\" xlink:href=\"#m1806531bd6\" y=\"227.357428\"/>\n      </g>\n     </g>\n     <g id=\"text_1\">\n      <!-- −40 -->\n      <g transform=\"translate(54.349275 241.955865)scale(0.1 -0.1)\">\n       <defs>\n        <path d=\"M 10.59375 35.5 \nL 73.1875 35.5 \nL 73.1875 27.203125 \nL 10.59375 27.203125 \nz\n\" id=\"DejaVuSans-8722\"/>\n        <path d=\"M 37.796875 64.3125 \nL 12.890625 25.390625 \nL 37.796875 25.390625 \nz\nM 35.203125 72.90625 \nL 47.609375 72.90625 \nL 47.609375 25.390625 \nL 58.015625 25.390625 \nL 58.015625 17.1875 \nL 47.609375 17.1875 \nL 47.609375 0 \nL 37.796875 0 \nL 37.796875 17.1875 \nL 4.890625 17.1875 \nL 4.890625 26.703125 \nz\n\" id=\"DejaVuSans-52\"/>\n        <path d=\"M 31.78125 66.40625 \nQ 24.171875 66.40625 20.328125 58.90625 \nQ 16.5 51.421875 16.5 36.375 \nQ 16.5 21.390625 20.328125 13.890625 \nQ 24.171875 6.390625 31.78125 6.390625 \nQ 39.453125 6.390625 43.28125 13.890625 \nQ 47.125 21.390625 47.125 36.375 \nQ 47.125 51.421875 43.28125 58.90625 \nQ 39.453125 66.40625 31.78125 66.40625 \nz\nM 31.78125 74.21875 \nQ 44.046875 74.21875 50.515625 64.515625 \nQ 56.984375 54.828125 56.984375 36.375 \nQ 56.984375 17.96875 50.515625 8.265625 \nQ 44.046875 -1.421875 31.78125 -1.421875 \nQ 19.53125 -1.421875 13.0625 8.265625 \nQ 6.59375 17.96875 6.59375 36.375 \nQ 6.59375 54.828125 13.0625 64.515625 \nQ 19.53125 74.21875 31.78125 74.21875 \nz\n\" id=\"DejaVuSans-48\"/>\n       </defs>\n       <use xlink:href=\"#DejaVuSans-8722\"/>\n       <use x=\"83.789062\" xlink:href=\"#DejaVuSans-52\"/>\n       <use x=\"147.412109\" xlink:href=\"#DejaVuSans-48\"/>\n      </g>\n     </g>\n    </g>\n    <g id=\"xtick_2\">\n     <g id=\"line2d_2\">\n      <g>\n       <use style=\"stroke:#000000;stroke-width:0.8;\" x=\"105.393871\" xlink:href=\"#m1806531bd6\" y=\"227.357428\"/>\n      </g>\n     </g>\n     <g id=\"text_2\">\n      <!-- −30 -->\n      <g transform=\"translate(94.841527 241.955865)scale(0.1 -0.1)\">\n       <defs>\n        <path d=\"M 40.578125 39.3125 \nQ 47.65625 37.796875 51.625 33 \nQ 55.609375 28.21875 55.609375 21.1875 \nQ 55.609375 10.40625 48.1875 4.484375 \nQ 40.765625 -1.421875 27.09375 -1.421875 \nQ 22.515625 -1.421875 17.65625 -0.515625 \nQ 12.796875 0.390625 7.625 2.203125 \nL 7.625 11.71875 \nQ 11.71875 9.328125 16.59375 8.109375 \nQ 21.484375 6.890625 26.8125 6.890625 \nQ 36.078125 6.890625 40.9375 10.546875 \nQ 45.796875 14.203125 45.796875 21.1875 \nQ 45.796875 27.640625 41.28125 31.265625 \nQ 36.765625 34.90625 28.71875 34.90625 \nL 20.21875 34.90625 \nL 20.21875 43.015625 \nL 29.109375 43.015625 \nQ 36.375 43.015625 40.234375 45.921875 \nQ 44.09375 48.828125 44.09375 54.296875 \nQ 44.09375 59.90625 40.109375 62.90625 \nQ 36.140625 65.921875 28.71875 65.921875 \nQ 24.65625 65.921875 20.015625 65.03125 \nQ 15.375 64.15625 9.8125 62.3125 \nL 9.8125 71.09375 \nQ 15.4375 72.65625 20.34375 73.4375 \nQ 25.25 74.21875 29.59375 74.21875 \nQ 40.828125 74.21875 47.359375 69.109375 \nQ 53.90625 64.015625 53.90625 55.328125 \nQ 53.90625 49.265625 50.4375 45.09375 \nQ 46.96875 40.921875 40.578125 39.3125 \nz\n\" id=\"DejaVuSans-51\"/>\n       </defs>\n       <use xlink:href=\"#DejaVuSans-8722\"/>\n       <use x=\"83.789062\" xlink:href=\"#DejaVuSans-51\"/>\n       <use x=\"147.412109\" xlink:href=\"#DejaVuSans-48\"/>\n      </g>\n     </g>\n    </g>\n    <g id=\"xtick_3\">\n     <g id=\"line2d_3\">\n      <g>\n       <use style=\"stroke:#000000;stroke-width:0.8;\" x=\"145.886123\" xlink:href=\"#m1806531bd6\" y=\"227.357428\"/>\n      </g>\n     </g>\n     <g id=\"text_3\">\n      <!-- −20 -->\n      <g transform=\"translate(135.333779 241.955865)scale(0.1 -0.1)\">\n       <defs>\n        <path d=\"M 19.1875 8.296875 \nL 53.609375 8.296875 \nL 53.609375 0 \nL 7.328125 0 \nL 7.328125 8.296875 \nQ 12.9375 14.109375 22.625 23.890625 \nQ 32.328125 33.6875 34.8125 36.53125 \nQ 39.546875 41.84375 41.421875 45.53125 \nQ 43.3125 49.21875 43.3125 52.78125 \nQ 43.3125 58.59375 39.234375 62.25 \nQ 35.15625 65.921875 28.609375 65.921875 \nQ 23.96875 65.921875 18.8125 64.3125 \nQ 13.671875 62.703125 7.8125 59.421875 \nL 7.8125 69.390625 \nQ 13.765625 71.78125 18.9375 73 \nQ 24.125 74.21875 28.421875 74.21875 \nQ 39.75 74.21875 46.484375 68.546875 \nQ 53.21875 62.890625 53.21875 53.421875 \nQ 53.21875 48.921875 51.53125 44.890625 \nQ 49.859375 40.875 45.40625 35.40625 \nQ 44.1875 33.984375 37.640625 27.21875 \nQ 31.109375 20.453125 19.1875 8.296875 \nz\n\" id=\"DejaVuSans-50\"/>\n       </defs>\n       <use xlink:href=\"#DejaVuSans-8722\"/>\n       <use x=\"83.789062\" xlink:href=\"#DejaVuSans-50\"/>\n       <use x=\"147.412109\" xlink:href=\"#DejaVuSans-48\"/>\n      </g>\n     </g>\n    </g>\n    <g id=\"xtick_4\">\n     <g id=\"line2d_4\">\n      <g>\n       <use style=\"stroke:#000000;stroke-width:0.8;\" x=\"186.378374\" xlink:href=\"#m1806531bd6\" y=\"227.357428\"/>\n      </g>\n     </g>\n     <g id=\"text_4\">\n      <!-- −10 -->\n      <g transform=\"translate(175.826031 241.955865)scale(0.1 -0.1)\">\n       <defs>\n        <path d=\"M 12.40625 8.296875 \nL 28.515625 8.296875 \nL 28.515625 63.921875 \nL 10.984375 60.40625 \nL 10.984375 69.390625 \nL 28.421875 72.90625 \nL 38.28125 72.90625 \nL 38.28125 8.296875 \nL 54.390625 8.296875 \nL 54.390625 0 \nL 12.40625 0 \nz\n\" id=\"DejaVuSans-49\"/>\n       </defs>\n       <use xlink:href=\"#DejaVuSans-8722\"/>\n       <use x=\"83.789062\" xlink:href=\"#DejaVuSans-49\"/>\n       <use x=\"147.412109\" xlink:href=\"#DejaVuSans-48\"/>\n      </g>\n     </g>\n    </g>\n    <g id=\"xtick_5\">\n     <g id=\"line2d_5\">\n      <g>\n       <use style=\"stroke:#000000;stroke-width:0.8;\" x=\"226.870626\" xlink:href=\"#m1806531bd6\" y=\"227.357428\"/>\n      </g>\n     </g>\n     <g id=\"text_5\">\n      <!-- 0 -->\n      <g transform=\"translate(223.689376 241.955865)scale(0.1 -0.1)\">\n       <use xlink:href=\"#DejaVuSans-48\"/>\n      </g>\n     </g>\n    </g>\n    <g id=\"xtick_6\">\n     <g id=\"line2d_6\">\n      <g>\n       <use style=\"stroke:#000000;stroke-width:0.8;\" x=\"267.362878\" xlink:href=\"#m1806531bd6\" y=\"227.357428\"/>\n      </g>\n     </g>\n     <g id=\"text_6\">\n      <!-- 10 -->\n      <g transform=\"translate(261.000378 241.955865)scale(0.1 -0.1)\">\n       <use xlink:href=\"#DejaVuSans-49\"/>\n       <use x=\"63.623047\" xlink:href=\"#DejaVuSans-48\"/>\n      </g>\n     </g>\n    </g>\n    <g id=\"xtick_7\">\n     <g id=\"line2d_7\">\n      <g>\n       <use style=\"stroke:#000000;stroke-width:0.8;\" x=\"307.85513\" xlink:href=\"#m1806531bd6\" y=\"227.357428\"/>\n      </g>\n     </g>\n     <g id=\"text_7\">\n      <!-- 20 -->\n      <g transform=\"translate(301.49263 241.955865)scale(0.1 -0.1)\">\n       <use xlink:href=\"#DejaVuSans-50\"/>\n       <use x=\"63.623047\" xlink:href=\"#DejaVuSans-48\"/>\n      </g>\n     </g>\n    </g>\n    <g id=\"xtick_8\">\n     <g id=\"line2d_8\">\n      <g>\n       <use style=\"stroke:#000000;stroke-width:0.8;\" x=\"348.347382\" xlink:href=\"#m1806531bd6\" y=\"227.357428\"/>\n      </g>\n     </g>\n     <g id=\"text_8\">\n      <!-- 30 -->\n      <g transform=\"translate(341.984882 241.955865)scale(0.1 -0.1)\">\n       <use xlink:href=\"#DejaVuSans-51\"/>\n       <use x=\"63.623047\" xlink:href=\"#DejaVuSans-48\"/>\n      </g>\n     </g>\n    </g>\n   </g>\n   <g id=\"matplotlib.axis_2\">\n    <g id=\"ytick_1\">\n     <g id=\"line2d_9\">\n      <defs>\n       <path d=\"M 0 0 \nL -3.5 0 \n\" id=\"maf98eb5e8a\" style=\"stroke:#000000;stroke-width:0.8;\"/>\n      </defs>\n      <g>\n       <use style=\"stroke:#000000;stroke-width:0.8;\" x=\"26.925\" xlink:href=\"#maf98eb5e8a\" y=\"227.357428\"/>\n      </g>\n     </g>\n     <g id=\"text_9\">\n      <!-- 0 -->\n      <g transform=\"translate(13.5625 231.156646)scale(0.1 -0.1)\">\n       <use xlink:href=\"#DejaVuSans-48\"/>\n      </g>\n     </g>\n    </g>\n    <g id=\"ytick_2\">\n     <g id=\"line2d_10\">\n      <g>\n       <use style=\"stroke:#000000;stroke-width:0.8;\" x=\"26.925\" xlink:href=\"#maf98eb5e8a\" y=\"196.449112\"/>\n      </g>\n     </g>\n     <g id=\"text_10\">\n      <!-- 10 -->\n      <g transform=\"translate(7.2 200.248331)scale(0.1 -0.1)\">\n       <use xlink:href=\"#DejaVuSans-49\"/>\n       <use x=\"63.623047\" xlink:href=\"#DejaVuSans-48\"/>\n      </g>\n     </g>\n    </g>\n    <g id=\"ytick_3\">\n     <g id=\"line2d_11\">\n      <g>\n       <use style=\"stroke:#000000;stroke-width:0.8;\" x=\"26.925\" xlink:href=\"#maf98eb5e8a\" y=\"165.540797\"/>\n      </g>\n     </g>\n     <g id=\"text_11\">\n      <!-- 20 -->\n      <g transform=\"translate(7.2 169.340015)scale(0.1 -0.1)\">\n       <use xlink:href=\"#DejaVuSans-50\"/>\n       <use x=\"63.623047\" xlink:href=\"#DejaVuSans-48\"/>\n      </g>\n     </g>\n    </g>\n    <g id=\"ytick_4\">\n     <g id=\"line2d_12\">\n      <g>\n       <use style=\"stroke:#000000;stroke-width:0.8;\" x=\"26.925\" xlink:href=\"#maf98eb5e8a\" y=\"134.632481\"/>\n      </g>\n     </g>\n     <g id=\"text_12\">\n      <!-- 30 -->\n      <g transform=\"translate(7.2 138.4317)scale(0.1 -0.1)\">\n       <use xlink:href=\"#DejaVuSans-51\"/>\n       <use x=\"63.623047\" xlink:href=\"#DejaVuSans-48\"/>\n      </g>\n     </g>\n    </g>\n    <g id=\"ytick_5\">\n     <g id=\"line2d_13\">\n      <g>\n       <use style=\"stroke:#000000;stroke-width:0.8;\" x=\"26.925\" xlink:href=\"#maf98eb5e8a\" y=\"103.724165\"/>\n      </g>\n     </g>\n     <g id=\"text_13\">\n      <!-- 40 -->\n      <g transform=\"translate(7.2 107.523384)scale(0.1 -0.1)\">\n       <use xlink:href=\"#DejaVuSans-52\"/>\n       <use x=\"63.623047\" xlink:href=\"#DejaVuSans-48\"/>\n      </g>\n     </g>\n    </g>\n    <g id=\"ytick_6\">\n     <g id=\"line2d_14\">\n      <g>\n       <use style=\"stroke:#000000;stroke-width:0.8;\" x=\"26.925\" xlink:href=\"#maf98eb5e8a\" y=\"72.81585\"/>\n      </g>\n     </g>\n     <g id=\"text_14\">\n      <!-- 50 -->\n      <g transform=\"translate(7.2 76.615069)scale(0.1 -0.1)\">\n       <defs>\n        <path d=\"M 10.796875 72.90625 \nL 49.515625 72.90625 \nL 49.515625 64.59375 \nL 19.828125 64.59375 \nL 19.828125 46.734375 \nQ 21.96875 47.46875 24.109375 47.828125 \nQ 26.265625 48.1875 28.421875 48.1875 \nQ 40.625 48.1875 47.75 41.5 \nQ 54.890625 34.8125 54.890625 23.390625 \nQ 54.890625 11.625 47.5625 5.09375 \nQ 40.234375 -1.421875 26.90625 -1.421875 \nQ 22.3125 -1.421875 17.546875 -0.640625 \nQ 12.796875 0.140625 7.71875 1.703125 \nL 7.71875 11.625 \nQ 12.109375 9.234375 16.796875 8.0625 \nQ 21.484375 6.890625 26.703125 6.890625 \nQ 35.15625 6.890625 40.078125 11.328125 \nQ 45.015625 15.765625 45.015625 23.390625 \nQ 45.015625 31 40.078125 35.4375 \nQ 35.15625 39.890625 26.703125 39.890625 \nQ 22.75 39.890625 18.8125 39.015625 \nQ 14.890625 38.140625 10.796875 36.28125 \nz\n\" id=\"DejaVuSans-53\"/>\n       </defs>\n       <use xlink:href=\"#DejaVuSans-53\"/>\n       <use x=\"63.623047\" xlink:href=\"#DejaVuSans-48\"/>\n      </g>\n     </g>\n    </g>\n    <g id=\"ytick_7\">\n     <g id=\"line2d_15\">\n      <g>\n       <use style=\"stroke:#000000;stroke-width:0.8;\" x=\"26.925\" xlink:href=\"#maf98eb5e8a\" y=\"41.907534\"/>\n      </g>\n     </g>\n     <g id=\"text_15\">\n      <!-- 60 -->\n      <g transform=\"translate(7.2 45.706753)scale(0.1 -0.1)\">\n       <defs>\n        <path d=\"M 33.015625 40.375 \nQ 26.375 40.375 22.484375 35.828125 \nQ 18.609375 31.296875 18.609375 23.390625 \nQ 18.609375 15.53125 22.484375 10.953125 \nQ 26.375 6.390625 33.015625 6.390625 \nQ 39.65625 6.390625 43.53125 10.953125 \nQ 47.40625 15.53125 47.40625 23.390625 \nQ 47.40625 31.296875 43.53125 35.828125 \nQ 39.65625 40.375 33.015625 40.375 \nz\nM 52.59375 71.296875 \nL 52.59375 62.3125 \nQ 48.875 64.0625 45.09375 64.984375 \nQ 41.3125 65.921875 37.59375 65.921875 \nQ 27.828125 65.921875 22.671875 59.328125 \nQ 17.53125 52.734375 16.796875 39.40625 \nQ 19.671875 43.65625 24.015625 45.921875 \nQ 28.375 48.1875 33.59375 48.1875 \nQ 44.578125 48.1875 50.953125 41.515625 \nQ 57.328125 34.859375 57.328125 23.390625 \nQ 57.328125 12.15625 50.6875 5.359375 \nQ 44.046875 -1.421875 33.015625 -1.421875 \nQ 20.359375 -1.421875 13.671875 8.265625 \nQ 6.984375 17.96875 6.984375 36.375 \nQ 6.984375 53.65625 15.1875 63.9375 \nQ 23.390625 74.21875 37.203125 74.21875 \nQ 40.921875 74.21875 44.703125 73.484375 \nQ 48.484375 72.75 52.59375 71.296875 \nz\n\" id=\"DejaVuSans-54\"/>\n       </defs>\n       <use xlink:href=\"#DejaVuSans-54\"/>\n       <use x=\"63.623047\" xlink:href=\"#DejaVuSans-48\"/>\n      </g>\n     </g>\n    </g>\n    <g id=\"ytick_8\">\n     <g id=\"line2d_16\">\n      <g>\n       <use style=\"stroke:#000000;stroke-width:0.8;\" x=\"26.925\" xlink:href=\"#maf98eb5e8a\" y=\"10.999219\"/>\n      </g>\n     </g>\n     <g id=\"text_16\">\n      <!-- 70 -->\n      <g transform=\"translate(7.2 14.798437)scale(0.1 -0.1)\">\n       <defs>\n        <path d=\"M 8.203125 72.90625 \nL 55.078125 72.90625 \nL 55.078125 68.703125 \nL 28.609375 0 \nL 18.3125 0 \nL 43.21875 64.59375 \nL 8.203125 64.59375 \nz\n\" id=\"DejaVuSans-55\"/>\n       </defs>\n       <use xlink:href=\"#DejaVuSans-55\"/>\n       <use x=\"63.623047\" xlink:href=\"#DejaVuSans-48\"/>\n      </g>\n     </g>\n    </g>\n   </g>\n   <g id=\"patch_23\">\n    <path d=\"M 26.925 227.357428 \nL 26.925 9.917428 \n\" style=\"fill:none;stroke:#000000;stroke-linecap:square;stroke-linejoin:miter;stroke-width:0.8;\"/>\n   </g>\n   <g id=\"patch_24\">\n    <path d=\"M 361.725 227.357428 \nL 361.725 9.917428 \n\" style=\"fill:none;stroke:#000000;stroke-linecap:square;stroke-linejoin:miter;stroke-width:0.8;\"/>\n   </g>\n   <g id=\"patch_25\">\n    <path d=\"M 26.925 227.357428 \nL 361.725 227.357428 \n\" style=\"fill:none;stroke:#000000;stroke-linecap:square;stroke-linejoin:miter;stroke-width:0.8;\"/>\n   </g>\n   <g id=\"patch_26\">\n    <path d=\"M 26.925 9.917428 \nL 361.725 9.917428 \n\" style=\"fill:none;stroke:#000000;stroke-linecap:square;stroke-linejoin:miter;stroke-width:0.8;\"/>\n   </g>\n  </g>\n </g>\n <defs>\n  <clipPath id=\"p33f2fe3362\">\n   <rect height=\"217.44\" width=\"334.8\" x=\"26.925\" y=\"9.917428\"/>\n  </clipPath>\n </defs>\n</svg>\n",
      "image/png": "[encoded data removed]"
     },
     "metadata": {
      "needs_background": "light"
     }
    }
   ],
   "source": [
    "df = data.DataReader(\"KTC.BK\", \"yahoo\", \"2020-01-01\", \"2020-12-21\") \n",
    "daily_ret = df['Adj Close'].pct_change(1).dropna()*250\n",
    "plt.hist(daily_ret, bins=20)"
   ]
  },
  {
   "cell_type": "markdown",
   "metadata": {
    "id": "lQ0ORUNarJ6e"
   },
   "source": [
    "6. The investment is risky. To control the risk, a good investor will diversify their portfolio with securities that have negative correlations. Find the two stocks with lowest (more negative) correlations \n",
    "Stock 1_________ Stock 2__________ with correlation of ___________________."
   ]
  },
  {
   "cell_type": "code",
   "execution_count": 8,
   "metadata": {
    "id": "IVGtFmw8r0NN"
   },
   "outputs": [
    {
     "output_type": "stream",
     "name": "stdout",
     "text": [
      "['GULF', 'MTC']\n"
     ]
    }
   ],
   "source": [
    "s48 = dict()\n",
    "for stock in set48:\n",
    "    df = data.DataReader(stock+\".BK\", \"yahoo\", \"2020-01-01\", \"2020-12-21\") \n",
    "    daily_ret = df['Adj Close'].pct_change(1).dropna()\n",
    "    s48[stock] = daily_ret\n",
    "        \n",
    "s48 = pd.DataFrame(s48) \n",
    "Stock_low = []\n",
    "for i in set48:\n",
    "    if s48.corr()[i].values.min() == s48.corr().values.min():\n",
    "        Stock_low.append(i)\n",
    "print(f\"{Stock_low}\")"
   ]
  },
  {
   "cell_type": "code",
   "execution_count": 9,
   "metadata": {},
   "outputs": [
    {
     "output_type": "stream",
     "name": "stdout",
     "text": [
      "0.055355513551633935\n"
     ]
    }
   ],
   "source": [
    "print(s48.corr().values.min())"
   ]
  },
  {
   "cell_type": "markdown",
   "metadata": {
    "id": "g1THy2_tr9u0"
   },
   "source": [
    "7.From two stocks in Part 6. If an intestor invest 1 million THB on Stock 1 alone on January 1, 2020. How much money an investor has at the end of December 21, 2020? Answer _______________________"
   ]
  },
  {
   "cell_type": "code",
   "execution_count": 10,
   "metadata": {
    "id": "Xj4Q56Y_r9Cs"
   },
   "outputs": [
    {
     "output_type": "stream",
     "name": "stdout",
     "text": [
      "Total Wealth on the last day by investing 1,000,000 on MINT: 716,524.85\n"
     ]
    }
   ],
   "source": [
    "wealth = 1000000\n",
    "df = data.DataReader(\"MINT.BK\", \"yahoo\", \"2020-01-01\", \"2020-12-21\") \n",
    "price_first = wealth / df['Adj Close'].values[0]\n",
    "price_last = price_first * df['Adj Close'].values[-1]\n",
    "print(f\"Total Wealth on the last day by investing {wealth:,} on MINT: {price_last:,.2f}\")"
   ]
  },
  {
   "cell_type": "markdown",
   "metadata": {
    "id": "lMWDB1wwsdG3"
   },
   "source": [
    "8.From two stocks in Part 6. If an intestor invest 1 million THB on Stock 2 alone on January 1, 2020. How much money an investor has at the end of December 21, 2020? Answer _______________________"
   ]
  },
  {
   "cell_type": "code",
   "execution_count": 11,
   "metadata": {
    "id": "sMO7Uzi0smBO"
   },
   "outputs": [
    {
     "output_type": "error",
     "ename": "NameError",
     "evalue": "name 'stock_at_day_1' is not defined",
     "traceback": [
      "\u001b[0;31m---------------------------------------------------------------------------\u001b[0m",
      "\u001b[0;31mNameError\u001b[0m                                 Traceback (most recent call last)",
      "\u001b[0;32m<ipython-input-11-41bf5ae4778c>\u001b[0m in \u001b[0;36m<module>\u001b[0;34m\u001b[0m\n\u001b[1;32m      2\u001b[0m \u001b[0mdf\u001b[0m \u001b[0;34m=\u001b[0m \u001b[0mdata\u001b[0m\u001b[0;34m.\u001b[0m\u001b[0mDataReader\u001b[0m\u001b[0;34m(\u001b[0m\u001b[0;34m\"TU.BK\"\u001b[0m\u001b[0;34m,\u001b[0m \u001b[0;34m\"yahoo\"\u001b[0m\u001b[0;34m,\u001b[0m \u001b[0;34m\"2020-01-01\"\u001b[0m\u001b[0;34m,\u001b[0m \u001b[0;34m\"2020-12-21\"\u001b[0m\u001b[0;34m)\u001b[0m\u001b[0;34m\u001b[0m\u001b[0;34m\u001b[0m\u001b[0m\n\u001b[1;32m      3\u001b[0m \u001b[0mprice_first\u001b[0m \u001b[0;34m=\u001b[0m \u001b[0mwealth\u001b[0m \u001b[0;34m/\u001b[0m \u001b[0mdf\u001b[0m\u001b[0;34m[\u001b[0m\u001b[0;34m'Adj Close'\u001b[0m\u001b[0;34m]\u001b[0m\u001b[0;34m.\u001b[0m\u001b[0mvalues\u001b[0m\u001b[0;34m[\u001b[0m\u001b[0;36m0\u001b[0m\u001b[0;34m]\u001b[0m\u001b[0;34m\u001b[0m\u001b[0;34m\u001b[0m\u001b[0m\n\u001b[0;32m----> 4\u001b[0;31m \u001b[0mprice_last\u001b[0m \u001b[0;34m=\u001b[0m \u001b[0mstock_at_day_1\u001b[0m \u001b[0;34m*\u001b[0m \u001b[0mdf\u001b[0m\u001b[0;34m[\u001b[0m\u001b[0;34m'Adj Close'\u001b[0m\u001b[0;34m]\u001b[0m\u001b[0;34m.\u001b[0m\u001b[0mvalues\u001b[0m\u001b[0;34m[\u001b[0m\u001b[0;34m-\u001b[0m\u001b[0;36m1\u001b[0m\u001b[0;34m]\u001b[0m\u001b[0;34m\u001b[0m\u001b[0;34m\u001b[0m\u001b[0m\n\u001b[0m\u001b[1;32m      5\u001b[0m \u001b[0mprint\u001b[0m\u001b[0;34m(\u001b[0m\u001b[0;34mf\"Total Wealth on the last day by investing {wealth:,} on TU: {price_last:,.2f}\"\u001b[0m\u001b[0;34m)\u001b[0m\u001b[0;34m\u001b[0m\u001b[0;34m\u001b[0m\u001b[0m\n",
      "\u001b[0;31mNameError\u001b[0m: name 'stock_at_day_1' is not defined"
     ]
    }
   ],
   "source": [
    "wealth = 1000000\n",
    "df = data.DataReader(\"TU.BK\", \"yahoo\", \"2020-01-01\", \"2020-12-21\") \n",
    "price_first = wealth / df['Adj Close'].values[0]\n",
    "price_last = stock_at_day_1 * df['Adj Close'].values[-1]\n",
    "print(f\"Total Wealth on the last day by investing {wealth:,} on TU: {price_last:,.2f}\")"
   ]
  },
  {
   "cell_type": "markdown",
   "metadata": {
    "id": "UDL3T_6Fsn5n"
   },
   "source": [
    "9.From two stocks in Part 6. If an intestor invest 0.5 million THB on Stock 1 and 0.5 million THB on Stock 2 on January 1, 2020. How much money an investor has at the end of December 21, 2020? Answer _________________"
   ]
  },
  {
   "cell_type": "code",
   "execution_count": 12,
   "metadata": {
    "id": "4PqZkgGU6gG9"
   },
   "outputs": [
    {
     "name": "stdout",
     "output_type": "stream",
     "text": [
      "Total Wealth on the last day by investing 500,000 on MINT: 358,262.43\n",
      "Total Wealth on the last day by investing 500,000 on TU: 507,379.20\n"
     ]
    }
   ],
   "source": [
    "MT = ['MINT', 'TU']\n",
    "for stock in MT:\n",
    "    wealth = 500000\n",
    "    df = data.DataReader(stock+\".BK\", \"yahoo\", \"2020-01-01\", \"2020-12-21\") \n",
    "    stock_at_day_1 = wealth / df['Adj Close'].values[0]\n",
    "    wealth_last_day = stock_at_day_1 * df['Adj Close'].values[-1]\n",
    "    print(f\"Total Wealth on the last day by investing {wealth:,} on {stock}: {wealth_last_day:,.2f}\")"
   ]
  },
  {
   "cell_type": "code",
   "execution_count": null,
   "metadata": {},
   "outputs": [],
   "source": [
    "top_list = ['ADVANC', 'AOT', 'BBL','BDMS','BEM', 'BGRIM','BH','BJC','BPP','BTS','CBG','CPALL','CPF','CPN','DTAC','EA','EGCO','GLOBAL','GPSC','GULF','HMPRO','INTUCH','IRPC','IVL','KBANK','KTB','KTC','LH','MINT','MTC','OSP','PTT','PTTEP','PTTGC','RATCH','SAWAD','SCB','SCC','TCAP','TISCO','TMB','TOA','TOP','TRUE','TTW','TU','VGI','WHA']\n",
    "top48 = dict()\n",
    "stock_list = []\n",
    "for stock in top_list:\n",
    "    try:\n",
    "        df = data.DataReader(f\"{stock}.BK\", \"yahoo\", \"2020-01-01\",\"2020-12-31\") \n",
    "        high = df.High\n",
    "        low = df.Low\n",
    "        day_in_year = 250\n",
    "        vol_range = (np.log(high/low)**2).mean()\n",
    "        vol_range = vol_range/(4*np.log(2))\n",
    "        vol_range = np.sqrt(vol_range)\n",
    "        vol_range = np.sqrt(day_in_year) * vol_range\n",
    "        stock_list.append(vol_range)\n",
    "    except:\n",
    "        print(\"Date is out of range\")\n",
    "\n",
    "stock_returned = pd.DataFrame({'stock':top_list, 'returned':stock_list})\n",
    "\n",
    "top5_rt = stock_returned.nsmallest(n = 5 ,columns = 'returned')\n",
    "top5_rt\n",
    "for idx, row in top5_rt.iterrows():\n",
    "  print(f\"{row[0]} with {row[1]:0.3f}% of volatility\")"
   ]
  }
 ],
 "metadata": {
  "colab": {
   "name": "StockSelectionCompFinance.ipynb",
   "provenance": []
  },
  "kernelspec": {
   "name": "python3",
   "display_name": "Python 3.9.2 64-bit",
   "metadata": {
    "interpreter": {
     "hash": "ac2eaa0ea0ebeafcc7822e65e46aa9d4f966f30b695406963e145ea4a91cd4fc"
    }
   }
  },
  "language_info": {
   "codemirror_mode": {
    "name": "ipython",
    "version": 3
   },
   "file_extension": ".py",
   "mimetype": "text/x-python",
   "name": "python",
   "nbconvert_exporter": "python",
   "pygments_lexer": "ipython3",
   "version": "3.9.2-final"
  }
 },
 "nbformat": 4,
 "nbformat_minor": 1
}
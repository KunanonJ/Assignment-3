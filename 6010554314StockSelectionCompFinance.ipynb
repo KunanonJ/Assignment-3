{
 "cells": [
  {
   "cell_type": "markdown",
   "metadata": {
    "id": "VMjP_pZMkEzs"
   },
   "source": [
    "# Assignment 3 \n",
    "Statistics for understanding the market\n",
    "\n"
   ]
  },
  {
   "cell_type": "markdown",
   "metadata": {
    "id": "0IdGmp3kkXf4"
   },
   "source": [
    "In this assignment, your goal is to find the stocks that is well suited for your investment. The list below is the step-by-step to choose the stock."
   ]
  },
  {
   "cell_type": "markdown",
   "metadata": {
    "id": "Ons3z71UklhC"
   },
   "source": [
    "1. Use Python to donwload the historical prices from Jaunary 1, 2020 to December 21, 2020 from Yahoo Finance. Here, we are interested in the top 48 stocks in the market. All symbols of all 48 stocks are given in the \"set48.txt\" attached with the assignment in Google Classroom. \n"
   ]
  },
  {
   "cell_type": "code",
   "execution_count": 2,
   "metadata": {
    "id": "COSJBnIfkEBo"
   },
   "outputs": [],
   "source": [
    "import csv \n",
    "from pandas_datareader import data\n",
    "import matplotlib.pyplot as plt\n",
    "import pandas as pd\n",
    "import numpy as np"
   ]
  },
  {
   "cell_type": "code",
   "execution_count": 3,
   "metadata": {
    "id": "COSJBnIfkEBo"
   },
   "outputs": [],
   "source": [
    "set48 = ['ADVANC','AOT','BBL','BDMS','BEM','BGRIM','BH','BJC','BPP','BTS','CBG','CPALL','CPF','CPN','DTAC','EA','EGCO','GLOBAL','GPSC','GULF','HMPRO','INTUCH','IRPC','IVL','KBANK','KTB','KTC','LH','MINT','MTC','OSP','PTT','PTTEP','PTTGC','RATCH','SAWAD','SCB','SCC','TCAP','TISCO','TMB','TOA','TOP','TRUE','TTW','TU','VGI','WHA']"
   ]
  },
  {
   "cell_type": "code",
   "execution_count": 4,
   "metadata": {},
   "outputs": [],
   "source": [
    "for stock in set48:\n",
    "    df = data.DataReader(stock+\".BK\", \"yahoo\", \"2020-01-01\", \"2020-12-21\")"
   ]
  },
  {
   "cell_type": "markdown",
   "metadata": {
    "id": "5fO0XBiJled6"
   },
   "source": [
    "2. Next, you want to find the top **five** stocks with the highest average return. Please add the average annualized return (RET) of the top five stock by computing the average daily return and multiply with 250 (Here, we assume that there are 250 trading days in a year.). You must put your results by filling the blank below:\n",
    "The stocks are\n",
    "\n",
    "\n",
    "  1.  ______________________ with ________________ % of return\n",
    "  2.   ______________________ with ________________ % of return\n",
    "  3.   ______________________ with ________________ % of return\n",
    "  4.   ______________________ with ________________ % of return\n",
    "  5.   ______________________ with ________________ % of return\n"
   ]
  },
  {
   "cell_type": "code",
   "execution_count": 5,
   "metadata": {},
   "outputs": [
    {
     "name": "stdout",
     "output_type": "stream",
     "text": [
      "KTC with 48.78% of return\n",
      "CBG with 42.01% of return\n",
      "GLOBAL with 29.42% of return\n",
      "IVL with 20.45% of return\n",
      "PTTGC with 15.92% of return\n"
     ]
    }
   ],
   "source": [
    "hs = {}\n",
    "for stock in set48:\n",
    "    df = data.DataReader(stock+\".BK\", \"yahoo\", \"2020-01-01\", \"2020-12-21\") \n",
    "    daily_ret = df['Adj Close'].pct_change(1).dropna()\n",
    "    avg_ret = daily_ret.mean()\n",
    "    RET = avg_ret*250*100\n",
    "    if RET >= 0:\n",
    "        hs[stock] = RET\n",
    "        \n",
    "highest = sorted(hs.items(), key=lambda x: x[1], reverse = True)\n",
    "for i in highest[0:5]:\n",
    "    print(f'{i[0]} with {i[1]:.2f}% of return')"
   ]
  },
  {
   "cell_type": "markdown",
   "metadata": {
    "id": "jtgDUjCsmzzF"
   },
   "source": [
    "3. You also concern about the risk. As a result, you want stock with the lowest volatility. Here. the volatilities are measured by the standard deviations (STDs), Report stocks with the five lowest volatilities and compute their corresponding annualized STD by multiply the daily STD with the square root of 250.(√250  )  \n",
    "The stocks are \n",
    "  1.   ______ with ____ % of volatility\n",
    "  2.   ______ with ____ % of volatility\n",
    "  3.   ______ with ____ % of volatility\n",
    "  4.   ______ with ____ % of volatility\n",
    "  5.   ______ with ____ % of volatility"
   ]
  },
  {
   "cell_type": "code",
   "execution_count": 6,
   "metadata": {
    "id": "mR8QCIIQn9qT"
   },
   "outputs": [
    {
     "name": "stdout",
     "output_type": "stream",
     "text": [
      "CPALL with 26.30% of volatility\n",
      "TTW with 26.37% of volatility\n",
      "ADVANC with 26.96% of volatility\n",
      "INTUCH with 29.99% of volatility\n",
      "SCC with 35.63% of volatility\n"
     ]
    }
   ],
   "source": [
    "st = {}\n",
    "for stock in set48:\n",
    "    df = data.DataReader(stock+\".BK\", \"yahoo\", \"2020-01-01\", \"2020-12-21\") \n",
    "    daily_ret = df['Adj Close'].pct_change(1).dropna()\n",
    "    std_ret = daily_ret.std()\n",
    "    vola = std_ret*np.sqrt(250)*100\n",
    "    st[stock] = vola\n",
    "        \n",
    "volatility = sorted(st.items(), key=lambda x: x[1])\n",
    "for i in volatility[0:5]:\n",
    "    print(f'{i[0]} with {i[1]:.2f}% of volatility')"
   ]
  },
  {
   "cell_type": "markdown",
   "metadata": {
    "id": "cnPGnQ4Fo-6b"
   },
   "source": [
    "4. Furthermore, the volatility and return should be compared. A stock with the same level of return the one with lower volatility is more preferable. Thus, in this part, you will compute the coefficient of variation (CV) defined as (STD/RET). Here, a stock with lower CV is less volatile. However, we should look only the stock with positive return. Hence, find the op 5 stocks with the **lowest CV** and the **positive return**:\n",
    "\n",
    "The stocks are\n",
    "  1.   ______ with CV of ____ \n",
    "  2.   ______ with CV of ____ \n",
    "  3.   ______ with CV of ____ \n",
    "  4.   ______ with CV of ____ \n",
    "  5.   ______ with CV of ____ \n",
    "\n"
   ]
  },
  {
   "cell_type": "code",
   "execution_count": 7,
   "metadata": {
    "id": "wImT3O_AoSE7"
   },
   "outputs": [
    {
     "name": "stdout",
     "output_type": "stream",
     "text": [
      "KTC with CV of 1.08\n",
      "CBG with CV of 1.28\n",
      "GLOBAL with CV of 1.79\n",
      "IVL with CV of 3.08\n",
      "PTTGC with CV of 3.85\n"
     ]
    }
   ],
   "source": [
    "cv = {}\n",
    "low_cv = []\n",
    "for stock in set48:\n",
    "    df = data.DataReader(stock+\".BK\", \"yahoo\", \"2020-01-01\", \"2020-12-21\") \n",
    "    daily_ret = df['Adj Close'].pct_change(1).dropna()\n",
    "    avg_ret = daily_ret.mean()\n",
    "    RET = avg_ret*250*100\n",
    "    std_ret = daily_ret.std()\n",
    "    vola = std_ret*np.sqrt(250)*100\n",
    "    coef = vola/RET\n",
    "    if coef>=0:\n",
    "        cv[stock] = coef\n",
    "        \n",
    "coef_var = sorted(cv.items(), key=lambda x: x[1])\n",
    "for i in coef_var[0:5]:\n",
    "    print(f'{i[0]} with CV of {i[1]:.2f}')\n",
    "    low_cv.append(i)"
   ]
  },
  {
   "cell_type": "markdown",
   "metadata": {
    "id": "N9igc9lyq29w"
   },
   "source": [
    "5. From the stock in Part 4. Use the stock with lowest CV and plot histogram of the annualized return.\n"
   ]
  },
  {
   "cell_type": "code",
   "execution_count": 8,
   "metadata": {
    "id": "MOQu1SNAqzU2"
   },
   "outputs": [
    {
     "data": {
      "text/plain": [
       "(array([ 1.,  0.,  1.,  0.,  0.,  2.,  0.,  3.,  5., 12., 18., 48., 67.,\n",
       "        42., 19.,  8.,  4.,  2.,  1.,  2.]),\n",
       " array([-45.62044244, -41.86214767, -38.10385291, -34.34555814,\n",
       "        -30.58726337, -26.8289686 , -23.07067383, -19.31237906,\n",
       "        -15.55408429, -11.79578953,  -8.03749476,  -4.27919999,\n",
       "         -0.52090522,   3.23738955,   6.99568432,  10.75397908,\n",
       "         14.51227385,  18.27056862,  22.02886339,  25.78715816,\n",
       "         29.54545293]),\n",
       " <a list of 20 Patch objects>)"
      ]
     },
     "execution_count": 8,
     "metadata": {},
     "output_type": "execute_result"
    },
    {
     "data": {
      "image/png": "[encoded data removed]",
      "text/plain": [
       "<Figure size 432x288 with 1 Axes>"
      ]
     },
     "metadata": {
      "needs_background": "light"
     },
     "output_type": "display_data"
    }
   ],
   "source": [
    "df = data.DataReader(\"KTC.BK\", \"yahoo\", \"2020-01-01\", \"2020-12-21\") \n",
    "daily_ret = df['Adj Close'].pct_change(1).dropna()*250\n",
    "plt.hist(daily_ret, bins=20)"
   ]
  },
  {
   "cell_type": "markdown",
   "metadata": {
    "id": "lQ0ORUNarJ6e"
   },
   "source": [
    "6. The investment is risky. To control the risk, a good investor will diversify their portfolio with securities that have negative correlations. Find the two stocks with lowest (more negative) correlations \n",
    "Stock 1_________ Stock 2__________ with correlation of ___________________."
   ]
  },
  {
   "cell_type": "code",
   "execution_count": 17,
   "metadata": {
    "id": "IVGtFmw8r0NN"
   },
   "outputs": [
    {
     "name": "stdout",
     "output_type": "stream",
     "text": [
      "['MINT', 'TU']\n"
     ]
    }
   ],
   "source": [
    "s48 = dict()\n",
    "for stock in set48:\n",
    "    df = data.DataReader(stock+\".BK\", \"yahoo\", \"2020-01-01\", \"2020-12-21\") \n",
    "    daily_ret = df['Adj Close'].pct_change(1).dropna()\n",
    "    s48[stock] = daily_ret\n",
    "        \n",
    "s48 = pd.DataFrame(s48) \n",
    "Stock_low = []\n",
    "for i in set48:\n",
    "    if s48.corr()[i].values.min() == s48.corr().values.min():\n",
    "        Stock_low.append(i)\n",
    "print(f\"{Stock_low}\")"
   ]
  },
  {
   "cell_type": "code",
   "execution_count": 21,
   "metadata": {},
   "outputs": [
    {
     "name": "stdout",
     "output_type": "stream",
     "text": [
      "0.0928271321018655\n"
     ]
    }
   ],
   "source": [
    "print(s48.corr().values.min())"
   ]
  },
  {
   "cell_type": "markdown",
   "metadata": {
    "id": "g1THy2_tr9u0"
   },
   "source": [
    "7.From two stocks in Part 6. If an intestor invest 1 million THB on Stock 1 alone on January 1, 2020. How much money an investor has at the end of December 21, 2020? Answer _______________________"
   ]
  },
  {
   "cell_type": "code",
   "execution_count": 10,
   "metadata": {
    "id": "Xj4Q56Y_r9Cs"
   },
   "outputs": [
    {
     "name": "stdout",
     "output_type": "stream",
     "text": [
      "Total Wealth on the last day by investing 1,000,000 on MINT: 716,524.85\n"
     ]
    }
   ],
   "source": [
    "wealth = 1000000\n",
    "df = data.DataReader(\"MINT.BK\", \"yahoo\", \"2020-01-01\", \"2020-12-21\") \n",
    "price_first = wealth / df['Adj Close'].values[0]\n",
    "price_last = price_first * df['Adj Close'].values[-1]\n",
    "print(f\"Total Wealth on the last day by investing {wealth:,} on MINT: {price_last:,.2f}\")"
   ]
  },
  {
   "cell_type": "markdown",
   "metadata": {
    "id": "lMWDB1wwsdG3"
   },
   "source": [
    "8.From two stocks in Part 6. If an intestor invest 1 million THB on Stock 2 alone on January 1, 2020. How much money an investor has at the end of December 21, 2020? Answer _______________________"
   ]
  },
  {
   "cell_type": "code",
   "execution_count": 11,
   "metadata": {
    "id": "sMO7Uzi0smBO"
   },
   "outputs": [
    {
     "name": "stdout",
     "output_type": "stream",
     "text": [
      "Total Wealth on the last day by investing 1,000,000 on TU: 1,014,758.39\n"
     ]
    }
   ],
   "source": [
    "wealth = 1000000\n",
    "df = data.DataReader(\"TU.BK\", \"yahoo\", \"2020-01-01\", \"2020-12-21\") \n",
    "price_first = wealth / df['Adj Close'].values[0]\n",
    "price_last = stock_at_day_1 * df['Adj Close'].values[-1]\n",
    "print(f\"Total Wealth on the last day by investing {wealth:,} on TU: {price_last:,.2f}\")"
   ]
  },
  {
   "cell_type": "markdown",
   "metadata": {
    "id": "UDL3T_6Fsn5n"
   },
   "source": [
    "9.From two stocks in Part 6. If an intestor invest 0.5 million THB on Stock 1 and 0.5 million THB on Stock 2 on January 1, 2020. How much money an investor has at the end of December 21, 2020? Answer _________________"
   ]
  },
  {
   "cell_type": "code",
   "execution_count": 12,
   "metadata": {
    "id": "4PqZkgGU6gG9"
   },
   "outputs": [
    {
     "name": "stdout",
     "output_type": "stream",
     "text": [
      "Total Wealth on the last day by investing 500,000 on MINT: 358,262.43\n",
      "Total Wealth on the last day by investing 500,000 on TU: 507,379.20\n"
     ]
    }
   ],
   "source": [
    "MT = ['MINT', 'TU']\n",
    "for stock in MT:\n",
    "    wealth = 500000\n",
    "    df = data.DataReader(stock+\".BK\", \"yahoo\", \"2020-01-01\", \"2020-12-21\") \n",
    "    stock_at_day_1 = wealth / df['Adj Close'].values[0]\n",
    "    wealth_last_day = stock_at_day_1 * df['Adj Close'].values[-1]\n",
    "    print(f\"Total Wealth on the last day by investing {wealth:,} on {stock}: {wealth_last_day:,.2f}\")"
   ]
  },
  {
   "cell_type": "code",
   "execution_count": null,
   "metadata": {},
   "outputs": [],
   "source": []
  }
 ],
 "metadata": {
  "colab": {
   "name": "StockSelectionCompFinance.ipynb",
   "provenance": []
  },
  "kernelspec": {
   "display_name": "Python 3",
   "language": "python",
   "name": "python3"
  },
  "language_info": {
   "codemirror_mode": {
    "name": "ipython",
    "version": 3
   },
   "file_extension": ".py",
   "mimetype": "text/x-python",
   "name": "python",
   "nbconvert_exporter": "python",
   "pygments_lexer": "ipython3",
   "version": "3.8.3"
  }
 },
 "nbformat": 4,
 "nbformat_minor": 1
}

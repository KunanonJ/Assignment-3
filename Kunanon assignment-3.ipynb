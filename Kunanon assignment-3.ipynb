{
 "cells": [
  {
   "metadata": {
    "id": "VMjP_pZMkEzs"
   },
   "cell_type": "markdown",
   "source": [
    "# Assignment 3 \n",
    "Statistics for understanding the market\n",
    "\n"
   ]
  },
  {
   "metadata": {
    "id": "0IdGmp3kkXf4"
   },
   "cell_type": "markdown",
   "source": [
    "In this assignment, your goal is to find the stocks that is well suited for your investment. The list below is the step-by-step to choose the stock."
   ]
  },
  {
   "metadata": {
    "id": "Ons3z71UklhC"
   },
   "cell_type": "markdown",
   "source": [
    "1. Use Python to downloads the historical prices from January 1, 2020 to December 21, 2020 from Yahoo Finance. Here, we are interested in the top 48 stocks in the market. All symbols of all 48 stocks are given in the \"set48.txt\" attached with the assignment in Google Classroom.\n"
   ]
  },
  {
   "metadata": {
    "trusted": true
   },
   "cell_type": "code",
   "source": [
    "import csv \n",
    "from pandas_datareader import data\n",
    "import matplotlib.pyplot as plt\n",
    "import pandas as pd\n",
    "import numpy as np"
   ],
   "execution_count": 23,
   "outputs": []
  },
  {
   "metadata": {
    "id": "COSJBnIfkEBo",
    "trusted": true
   },
   "cell_type": "code",
   "source": [
    "set48 = ['ADVANC', 'AOT', 'BBL','BDMS','BEM', 'BGRIM','BH','BJC','BPP','BTS','CBG','CPALL','CPF','CPN','DTAC','EA','EGCO','GLOBAL','GPSC','GULF','HMPRO','INTUCH','IRPC','IVL','KBANK','KTB','KTC','LH','MINT','MTC','OSP','PTT','PTTEP','PTTGC','RATCH','SAWAD','SCB','SCC','TCAP','TISCO','TMB','TOA','TOP','TRUE','TTW','TU','VGI','WHA']\n",
    "\n",
    "stocks = pd.Series(set48)+'.bk'\n",
    "df = data.DataReader(stocks, \"yahoo\", '2020-01-01', '2020-12-31')\n",
    "\n",
    "print(df)"
   ],
   "execution_count": 24,
   "outputs": [
    {
     "output_type": "stream",
     "name": "stdout",
     "text": [
      "Attributes   Adj Close                                               \\\nSymbols      ADVANC.bk     AOT.bk      BBL.bk    BDMS.bk     BEM.bk   \nDate                                                                  \n2020-01-02  206.269302  74.814011  156.630249  25.892046  10.688825   \n2020-01-03  204.376923  73.571259  153.756302  24.905682  10.786888   \n2020-01-06  205.323105  71.831398  149.445374  24.905682  10.688825   \n2020-01-07  211.000244  73.322701  149.924377  25.152273  11.081076   \n2020-01-08  208.161682  72.577049  146.571426  24.905682  10.983013   \n...                ...        ...         ...        ...        ...   \n2020-12-24  174.713943  61.750000  122.000000  20.700001   8.500000   \n2020-12-25  175.203339  62.500000  121.500000  20.700001   8.500000   \n2020-12-28  173.245758  61.500000  118.000000  20.299999   8.450000   \n2020-12-29  174.713943  62.500000  121.000000  21.100000   8.600000   \n2020-12-30  172.266968  62.250000  118.500000  20.799999   8.300000   \n\nAttributes                                                          ...  \\\nSymbols      BGRIM.bk       BH.bk     BJC.bk     BPP.bk     BTS.bk  ...   \nDate                                                                ...   \n2020-01-02  52.524414  140.364380  40.088001  17.230412  12.666060  ...   \n2020-01-03  52.028900  135.573792  41.065758  16.943239  12.571539  ...   \n2020-01-06  52.028900  132.699432  40.576878  16.560339  12.382494  ...   \n2020-01-07  53.267685  135.573792  41.310200  16.464615  12.760585  ...   \n2020-01-08  51.781143  134.615662  41.065758  16.368893  12.666060  ...   \n...               ...         ...        ...        ...        ...  ...   \n2020-12-24  49.750000  117.500000  34.750000  15.900000   9.451547  ...   \n2020-12-25  49.500000  126.000000  34.750000  16.000000   9.451547  ...   \n2020-12-28  50.750000  122.500000  34.500000  15.300000   9.303865  ...   \n2020-12-29  50.500000  122.500000  35.000000  15.200000   9.402320  ...   \n2020-12-30  48.500000  120.000000  34.750000  15.100000   9.156185  ...   \n\nAttributes     Volume                                                 \\\nSymbols       TCAP.bk   TISCO.bk       TMB.bk     TOA.bk      TOP.bk   \nDate                                                                   \n2020-01-02  4538300.0  4741400.0  411018900.0  1727700.0  12337200.0   \n2020-01-03  9436900.0  2676000.0  368357600.0  4154900.0  10290600.0   \n2020-01-06  3958300.0  2674200.0  397080200.0  2085600.0  16266200.0   \n2020-01-07  3161700.0  5693800.0  391311000.0  2707100.0   9925300.0   \n2020-01-08  5794100.0  2001100.0  502289100.0  2605100.0  17780300.0   \n...               ...        ...          ...        ...         ...   \n2020-12-24  5881500.0  5606500.0  760571200.0  3125000.0   8876600.0   \n2020-12-25  5870600.0  4419000.0  346317200.0  1893900.0   8690000.0   \n2020-12-28  5557700.0  3790700.0  784986500.0  2098800.0  11987600.0   \n2020-12-29  3122600.0  3573600.0  614030300.0  2360700.0   9664700.0   \n2020-12-30  5869400.0  3433300.0  937232400.0  3015500.0   7177500.0   \n\nAttributes                                                                \nSymbols         TRUE.bk     TTW.bk       TU.bk       VGI.bk       WHA.bk  \nDate                                                                      \n2020-01-02   82143500.0  3083700.0   7994000.0   26603100.0   71021800.0  \n2020-01-03   45627300.0  4335800.0  13589300.0   11107100.0   75553500.0  \n2020-01-06  129859700.0  5232300.0  15162600.0    8467600.0   69935300.0  \n2020-01-07   96999700.0  1597800.0  15050800.0   21458900.0   63384300.0  \n2020-01-08  200864800.0  2250600.0  13708700.0   10750300.0  104760400.0  \n...                 ...        ...         ...          ...          ...  \n2020-12-24  198924600.0  3068800.0  15447000.0  129239600.0   93664000.0  \n2020-12-25  125211900.0  4768700.0  24744700.0   96323100.0   88784400.0  \n2020-12-28  534925000.0  2320300.0  23247300.0   47080500.0  110401300.0  \n2020-12-29  319111700.0  2719200.0  14880200.0   39612300.0   77146900.0  \n2020-12-30  483373500.0  8073700.0  11901700.0   63011600.0  183676400.0  \n\n[243 rows x 288 columns]\n"
     ]
    }
   ]
  },
  {
   "metadata": {
    "id": "5fO0XBiJled6"
   },
   "cell_type": "markdown",
   "source": [
    "2. Next, you want to find the top **five** stocks with the highest average return. Please add the average annualized return (RET) of the top five stock by computing the average daily return and multiply with 250 (Here, we assume that there are 250 trading days in a year.). You must put your results by filling the blank below:\n",
    "The stocks are\n",
    "\n",
    "\n",
    "1. KTC with 57.373% of return\n",
    "2. CBG with 47.720% of return\n",
    "3. EA with 22.891% of return\n",
    "4. IVL with 22.591% of return\n",
    "5. GLOBAL with 19.677% of return\n"
   ]
  },
  {
   "cell_type": "code",
   "execution_count": 25,
   "metadata": {},
   "outputs": [
    {
     "output_type": "stream",
     "name": "stdout",
     "text": [
      "KTC with 57.373% of return\nCBG with 47.720% of return\nEA with 22.891% of return\nIVL with 22.591% of return\nGLOBAL with 19.677% of return\n"
     ]
    }
   ],
   "source": [
    "top_list = ['ADVANC', 'AOT', 'BBL','BDMS','BEM', 'BGRIM','BH','BJC','BPP','BTS','CBG','CPALL','CPF','CPN','DTAC','EA','EGCO','GLOBAL','GPSC','GULF','HMPRO','INTUCH','IRPC','IVL','KBANK','KTB','KTC','LH','MINT','MTC','OSP','PTT','PTTEP','PTTGC','RATCH','SAWAD','SCB','SCC','TCAP','TISCO','TMB','TOA','TOP','TRUE','TTW','TU','VGI','WHA']\n",
    "top48 = dict()\n",
    "stock_list = []\n",
    "for stock in top_list:\n",
    "    try:\n",
    "        df = data.DataReader(f\"{stock}.BK\", \"yahoo\", \"2020-01-01\",\"2020-12-31\") \n",
    "        price = df.Close\n",
    "        ret = price.pct_change(1)\n",
    "        ret = ret.dropna()\n",
    "        day_in_year = 250\n",
    "        returned = day_in_year*ret.mean()*100\n",
    "        stock_list.append(returned)\n",
    "        # print(f\"{stock} with {returned:0.3f}% of return\")\n",
    "    except:\n",
    "        print(\"Date is out of range\")\n",
    "\n",
    "stock_returned = pd.DataFrame({'stock':top_list, 'returned':stock_list})\n",
    "\n",
    "top5_rt = stock_returned.nlargest(n = 5 ,columns = 'returned')\n",
    "top5_rt\n",
    "for idx, row in top5_rt.iterrows():\n",
    "  print(f\"{row[0]} with {row[1]:0.3f}% of return\")"
   ]
  },
  {
   "metadata": {
    "trusted": true
   },
   "cell_type": "code",
   "source": [
    "# top_list = ['ADVANC', 'AOT', 'BBL','BDMS','BEM', 'BGRIM','BH','BJC','BPP','BTS','CBG','CPALL','CPF','CPN','DTAC','EA','EGCO','GLOBAL','GPSC','GULF','HMPRO','INTUCH','IRPC','IVL','KBANK','KTB','KTC','LH','MINT','MTC','OSP','PTT','PTTEP','PTTGC','RATCH','SAWAD','SCB','SCC','TCAP','TISCO','TMB','TOA','TOP','TRUE','TTW','TU','VGI','WHA']\n",
    "# top48 = dict()\n",
    "# stock_list = []\n",
    "# for stock in top_list:\n",
    "#     try:\n",
    "#         df = data.DataReader(f\"{stock}.BK\", \"yahoo\", \"2020-01-01\",\"2020-12-31\") \n",
    "#         price = df.Close\n",
    "#         ret = price.pct_change(1)\n",
    "#         ret = ret.dropna()\n",
    "#         day_in_year = 250\n",
    "#         returned = day_in_year*ret.mean()*100\n",
    "#         stock_list.append(returned)\n",
    "#         print(f\"{stock} with {returned:0.3f}% of return\")\n",
    "#     except:\n",
    "#         print(\"Date is out of range\")"
   ],
   "execution_count": 23,
   "outputs": []
  },
  {
   "metadata": {
    "id": "jtgDUjCsmzzF"
   },
   "cell_type": "markdown",
   "source": [
    "3. You also concern about the risk. As a result, you want stock with the lowest volatility. Here. the volatilities are measured by the standard deviations (STDs), Report stocks with the five lowest volatilities and compute their corresponding annualized STD by multiply the daily STD with the square root of 250.(√250  )  \n",
    "The stocks are \n",
    "\n",
    "\n",
    "1. PALL with 0.236% of volatility\n",
    "2. TTW with 0.242% of volatility\n",
    "3. ADVANC with 0.251% of volatility\n",
    "4. SCC with 0.276% of volatility\n",
    "5. TISCO with 0.298% of volatility"
   ]
  },
  {
   "cell_type": "code",
   "execution_count": 7,
   "metadata": {},
   "outputs": [
    {
     "output_type": "stream",
     "name": "stdout",
     "text": [
      "CPALL with 0.236% of volatility\nTTW with 0.242% of volatility\nADVANC with 0.251% of volatility\nSCC with 0.276% of volatility\nTISCO with 0.298% of volatility\n"
     ]
    }
   ],
   "source": [
    "top_list = ['ADVANC', 'AOT', 'BBL','BDMS','BEM', 'BGRIM','BH','BJC','BPP','BTS','CBG','CPALL','CPF','CPN','DTAC','EA','EGCO','GLOBAL','GPSC','GULF','HMPRO','INTUCH','IRPC','IVL','KBANK','KTB','KTC','LH','MINT','MTC','OSP','PTT','PTTEP','PTTGC','RATCH','SAWAD','SCB','SCC','TCAP','TISCO','TMB','TOA','TOP','TRUE','TTW','TU','VGI','WHA']\n",
    "top48 = dict()\n",
    "stock_list = []\n",
    "for stock in top_list:\n",
    "    try:\n",
    "        df = data.DataReader(f\"{stock}.BK\", \"yahoo\", \"2020-01-01\",\"2020-12-31\") \n",
    "        high = df.High\n",
    "        low = df.Low\n",
    "        day_in_year = 250\n",
    "        vol_range = (np.log(high/low)**2).mean()\n",
    "        vol_range = vol_range/(4*np.log(2))\n",
    "        vol_range = np.sqrt(vol_range)\n",
    "        vol_range = np.sqrt(day_in_year) * vol_range\n",
    "        stock_list.append(vol_range)\n",
    "    except:\n",
    "        print(\"Date is out of range\")\n",
    "\n",
    "stock_returned = pd.DataFrame({'stock':top_list, 'returned':stock_list})\n",
    "\n",
    "top5_rt = stock_returned.nsmallest(n = 5 ,columns = 'returned')\n",
    "top5_rt\n",
    "for idx, row in top5_rt.iterrows():\n",
    "  print(f\"{row[0]} with {row[1]:0.3f}% of volatility\")"
   ]
  },
  {
   "metadata": {
    "trusted": true
   },
   "cell_type": "code",
   "source": [
    "# for stock in top_list:\n",
    "#     try:\n",
    "#         df = data.DataReader(f\"{stock}.BK\", \"yahoo\", \"2020-01-01\",\"2020-12-31\") \n",
    "#         high = df.High\n",
    "#         low = df.Low\n",
    "#         day_in_year = 250\n",
    "#         vol_range = (np.log(high/low)**2).mean()\n",
    "#         vol_range = vol_range/(4*np.log(2))\n",
    "#         vol_range = np.sqrt(vol_range)\n",
    "#         vol_range = np.sqrt(day_in_year) * vol_range\n",
    "#         print(f\"{stock} with {vol_range * 100:0.3f}% of volatility\")\n",
    "#     except:\n",
    "#         print(\"Date is out of range\")"
   ],
   "execution_count": 1,
   "outputs": []
  },
  {
   "metadata": {
    "id": "cnPGnQ4Fo-6b"
   },
   "cell_type": "markdown",
   "source": [
    "4. Furthermore, the volatility and return should be compared. A stock with the same level of return the one with lower volatility is more preferable. Thus, in this part, you will compute the coefficient of variation (CV) defined as (STD/RET). Here, a stock with lower CV is less volatile. However, we should look only the stock with positive return. Hence, find the top 5 stocks with the **lowest CV** and the **positive return**:\n",
    "\n",
    "The stocks are\n",
    "\n",
    "  1.   ______ with CV of ____ \n",
    "  2.   ______ with CV of ____ \n",
    "  3.   ______ with CV of ____ \n",
    "  4.   ______ with CV of ____ \n",
    "  5.   ______ with CV of ____ \n",
    "\n"
   ]
  },
  {
   "metadata": {
    "trusted": false
   },
   "cell_type": "code",
   "source": [
    "top_list = ['ADVANC', 'AOT', 'BBL','BDMS','BEM', 'BGRIM','BH','BJC','BPP','BTS','CBG','CPALL','CPF','CPN','DTAC','EA','EGCO','GLOBAL','GPSC','GULF','HMPRO','INTUCH','IRPC','IVL','KBANK','KTB','KTC','LH','MINT','MTC','OSP','PTT','PTTEP','PTTGC','RATCH','SAWAD','SCB','SCC','TCAP','TISCO','TMB','TOA','TOP','TRUE','TTW','TU','VGI','WHA']\n",
    "top48 = dict()\n",
    "stock_list = []\n",
    "for stock in top_list:\n",
    "    try:\n",
    "        df = data.DataReader(f\"{stock}.BK\", \"yahoo\", \"2020-01-01\",\"2020-12-31\") \n",
    "        ['Adj Close']\n",
    "        avg = np.mean(df)\n",
    "        AVG = avg*100.0\n",
    "        std = np.std(df)\n",
    "        STD = std*100.0\n",
    "        CV = AVG/STD\n",
    "        stock_list.append(CV)\n",
    "    except:\n",
    "        print(\"Date is out of range\")\n",
    "\n",
    "stock_returned = pd.DataFrame({'stock':top_list, 'returned':stock_list})\n",
    "\n",
    "top5_rt = stock_returned.nlargest(n = 5 ,columns = 'returned')\n",
    "top5_rt\n",
    "for idx, row in top5_rt.iterrows():\n",
    "  print(f\"{row[0]} with CV of {row[1]:0.3f}\")"
   ],
   "execution_count": 22,
   "outputs": [
    {
     "output_type": "error",
     "ename": "TypeError",
     "evalue": "Column 'returned' has dtype object, cannot use method 'nlargest' with this dtype",
     "traceback": [
      "\u001B[0;31m---------------------------------------------------------------------------\u001B[0m",
      "\u001B[0;31mTypeError\u001B[0m                                 Traceback (most recent call last)",
      "\u001B[0;32m<ipython-input-22-d6ca8ae980a8>\u001B[0m in \u001B[0;36m<module>\u001B[0;34m\u001B[0m\n\u001B[1;32m     17\u001B[0m \u001B[0mstock_returned\u001B[0m \u001B[0;34m=\u001B[0m \u001B[0mpd\u001B[0m\u001B[0;34m.\u001B[0m\u001B[0mDataFrame\u001B[0m\u001B[0;34m(\u001B[0m\u001B[0;34m{\u001B[0m\u001B[0;34m'stock'\u001B[0m\u001B[0;34m:\u001B[0m\u001B[0mtop_list\u001B[0m\u001B[0;34m,\u001B[0m \u001B[0;34m'returned'\u001B[0m\u001B[0;34m:\u001B[0m\u001B[0mstock_list\u001B[0m\u001B[0;34m}\u001B[0m\u001B[0;34m)\u001B[0m\u001B[0;34m\u001B[0m\u001B[0;34m\u001B[0m\u001B[0m\n\u001B[1;32m     18\u001B[0m \u001B[0;34m\u001B[0m\u001B[0m\n\u001B[0;32m---> 19\u001B[0;31m \u001B[0mtop5_rt\u001B[0m \u001B[0;34m=\u001B[0m \u001B[0mstock_returned\u001B[0m\u001B[0;34m.\u001B[0m\u001B[0mnlargest\u001B[0m\u001B[0;34m(\u001B[0m\u001B[0mn\u001B[0m \u001B[0;34m=\u001B[0m \u001B[0;36m5\u001B[0m \u001B[0;34m,\u001B[0m\u001B[0mcolumns\u001B[0m \u001B[0;34m=\u001B[0m \u001B[0;34m'returned'\u001B[0m\u001B[0;34m)\u001B[0m\u001B[0;34m\u001B[0m\u001B[0;34m\u001B[0m\u001B[0m\n\u001B[0m\u001B[1;32m     20\u001B[0m \u001B[0mtop5_rt\u001B[0m\u001B[0;34m\u001B[0m\u001B[0;34m\u001B[0m\u001B[0m\n\u001B[1;32m     21\u001B[0m \u001B[0;32mfor\u001B[0m \u001B[0midx\u001B[0m\u001B[0;34m,\u001B[0m \u001B[0mrow\u001B[0m \u001B[0;32min\u001B[0m \u001B[0mtop5_rt\u001B[0m\u001B[0;34m.\u001B[0m\u001B[0miterrows\u001B[0m\u001B[0;34m(\u001B[0m\u001B[0;34m)\u001B[0m\u001B[0;34m:\u001B[0m\u001B[0;34m\u001B[0m\u001B[0;34m\u001B[0m\u001B[0m\n",
      "\u001B[0;32m/usr/local/lib/python3.9/site-packages/pandas/core/frame.py\u001B[0m in \u001B[0;36mnlargest\u001B[0;34m(self, n, columns, keep)\u001B[0m\n\u001B[1;32m   5792\u001B[0m         \u001B[0mBrunei\u001B[0m      \u001B[0;36m434000\u001B[0m    \u001B[0;36m12128\u001B[0m      \u001B[0mBN\u001B[0m\u001B[0;34m\u001B[0m\u001B[0;34m\u001B[0m\u001B[0m\n\u001B[1;32m   5793\u001B[0m         \"\"\"\n\u001B[0;32m-> 5794\u001B[0;31m         \u001B[0;32mreturn\u001B[0m \u001B[0malgorithms\u001B[0m\u001B[0;34m.\u001B[0m\u001B[0mSelectNFrame\u001B[0m\u001B[0;34m(\u001B[0m\u001B[0mself\u001B[0m\u001B[0;34m,\u001B[0m \u001B[0mn\u001B[0m\u001B[0;34m=\u001B[0m\u001B[0mn\u001B[0m\u001B[0;34m,\u001B[0m \u001B[0mkeep\u001B[0m\u001B[0;34m=\u001B[0m\u001B[0mkeep\u001B[0m\u001B[0;34m,\u001B[0m \u001B[0mcolumns\u001B[0m\u001B[0;34m=\u001B[0m\u001B[0mcolumns\u001B[0m\u001B[0;34m)\u001B[0m\u001B[0;34m.\u001B[0m\u001B[0mnlargest\u001B[0m\u001B[0;34m(\u001B[0m\u001B[0;34m)\u001B[0m\u001B[0;34m\u001B[0m\u001B[0;34m\u001B[0m\u001B[0m\n\u001B[0m\u001B[1;32m   5795\u001B[0m \u001B[0;34m\u001B[0m\u001B[0m\n\u001B[1;32m   5796\u001B[0m     \u001B[0;32mdef\u001B[0m \u001B[0mnsmallest\u001B[0m\u001B[0;34m(\u001B[0m\u001B[0mself\u001B[0m\u001B[0;34m,\u001B[0m \u001B[0mn\u001B[0m\u001B[0;34m,\u001B[0m \u001B[0mcolumns\u001B[0m\u001B[0;34m,\u001B[0m \u001B[0mkeep\u001B[0m\u001B[0;34m=\u001B[0m\u001B[0;34m\"first\"\u001B[0m\u001B[0;34m)\u001B[0m \u001B[0;34m->\u001B[0m \u001B[0mDataFrame\u001B[0m\u001B[0;34m:\u001B[0m\u001B[0;34m\u001B[0m\u001B[0;34m\u001B[0m\u001B[0m\n",
      "\u001B[0;32m/usr/local/lib/python3.9/site-packages/pandas/core/algorithms.py\u001B[0m in \u001B[0;36mnlargest\u001B[0;34m(self)\u001B[0m\n\u001B[1;32m   1181\u001B[0m \u001B[0;34m\u001B[0m\u001B[0m\n\u001B[1;32m   1182\u001B[0m     \u001B[0;32mdef\u001B[0m \u001B[0mnlargest\u001B[0m\u001B[0;34m(\u001B[0m\u001B[0mself\u001B[0m\u001B[0;34m)\u001B[0m\u001B[0;34m:\u001B[0m\u001B[0;34m\u001B[0m\u001B[0;34m\u001B[0m\u001B[0m\n\u001B[0;32m-> 1183\u001B[0;31m         \u001B[0;32mreturn\u001B[0m \u001B[0mself\u001B[0m\u001B[0;34m.\u001B[0m\u001B[0mcompute\u001B[0m\u001B[0;34m(\u001B[0m\u001B[0;34m\"nlargest\"\u001B[0m\u001B[0;34m)\u001B[0m\u001B[0;34m\u001B[0m\u001B[0;34m\u001B[0m\u001B[0m\n\u001B[0m\u001B[1;32m   1184\u001B[0m \u001B[0;34m\u001B[0m\u001B[0m\n\u001B[1;32m   1185\u001B[0m     \u001B[0;32mdef\u001B[0m \u001B[0mnsmallest\u001B[0m\u001B[0;34m(\u001B[0m\u001B[0mself\u001B[0m\u001B[0;34m)\u001B[0m\u001B[0;34m:\u001B[0m\u001B[0;34m\u001B[0m\u001B[0;34m\u001B[0m\u001B[0m\n",
      "\u001B[0;32m/usr/local/lib/python3.9/site-packages/pandas/core/algorithms.py\u001B[0m in \u001B[0;36mcompute\u001B[0;34m(self, method)\u001B[0m\n\u001B[1;32m   1295\u001B[0m             \u001B[0mdtype\u001B[0m \u001B[0;34m=\u001B[0m \u001B[0mframe\u001B[0m\u001B[0;34m[\u001B[0m\u001B[0mcolumn\u001B[0m\u001B[0;34m]\u001B[0m\u001B[0;34m.\u001B[0m\u001B[0mdtype\u001B[0m\u001B[0;34m\u001B[0m\u001B[0;34m\u001B[0m\u001B[0m\n\u001B[1;32m   1296\u001B[0m             \u001B[0;32mif\u001B[0m \u001B[0;32mnot\u001B[0m \u001B[0mself\u001B[0m\u001B[0;34m.\u001B[0m\u001B[0mis_valid_dtype_n_method\u001B[0m\u001B[0;34m(\u001B[0m\u001B[0mdtype\u001B[0m\u001B[0;34m)\u001B[0m\u001B[0;34m:\u001B[0m\u001B[0;34m\u001B[0m\u001B[0;34m\u001B[0m\u001B[0m\n\u001B[0;32m-> 1297\u001B[0;31m                 raise TypeError(\n\u001B[0m\u001B[1;32m   1298\u001B[0m                     \u001B[0;34mf\"Column {repr(column)} has dtype {dtype}, \"\u001B[0m\u001B[0;34m\u001B[0m\u001B[0;34m\u001B[0m\u001B[0m\n\u001B[1;32m   1299\u001B[0m                     \u001B[0;34mf\"cannot use method {repr(method)} with this dtype\"\u001B[0m\u001B[0;34m\u001B[0m\u001B[0;34m\u001B[0m\u001B[0m\n",
      "\u001B[0;31mTypeError\u001B[0m: Column 'returned' has dtype object, cannot use method 'nlargest' with this dtype"
     ]
    }
   ]
  },
  {
   "metadata": {
    "id": "N9igc9lyq29w"
   },
   "cell_type": "markdown",
   "source": [
    "5. From the stock in Part 4. Use the stock with lowest CV and plot histogram of the annualized return.\n"
   ]
  },
  {
   "metadata": {
    "id": "MOQu1SNAqzU2",
    "trusted": false
   },
   "cell_type": "code",
   "source": [
    "# put your code for plot histogram and histogram here."
   ],
   "execution_count": null,
   "outputs": []
  },
  {
   "metadata": {
    "id": "lQ0ORUNarJ6e"
   },
   "cell_type": "markdown",
   "source": [
    "6. The investment is risky. To control the risk, a good investor will diversify their portfolio with securities that have negative correlations. Find the two stocks with lowest (more negative) correlations \n",
    "\n",
    "Stock 1_________ Stock 2__________ with correlation of ___________________."
   ]
  },
  {
   "metadata": {
    "id": "IVGtFmw8r0NN",
    "trusted": false
   },
   "cell_type": "code",
   "source": [
    "# put your code fo finding stocks with lowest correlation here."
   ],
   "execution_count": null,
   "outputs": []
  },
  {
   "metadata": {
    "id": "g1THy2_tr9u0"
   },
   "cell_type": "markdown",
   "source": [
    "7.From two stocks in Part 6. If an intestor invest 1 million THB on Stock 1 alone on January 1, 2020. How much money an investor has at the end of December 21, \n",
    "\n",
    "2020? Answer _______________________"
   ]
  },
  {
   "metadata": {
    "id": "Xj4Q56Y_r9Cs",
    "trusted": false
   },
   "cell_type": "code",
   "source": [
    "# put you code for 7 here."
   ],
   "execution_count": null,
   "outputs": []
  },
  {
   "metadata": {
    "id": "lMWDB1wwsdG3"
   },
   "cell_type": "markdown",
   "source": [
    "8.From two stocks in Part 6. If an intestor invest 1 million THB on Stock 2 alone on January 1, 2020. How much money an investor has at the end of December 21, 2020? \n",
    "\n",
    "Answer _______________________"
   ]
  },
  {
   "metadata": {
    "id": "sMO7Uzi0smBO",
    "trusted": false
   },
   "cell_type": "code",
   "source": [
    "# put you code for 8 here."
   ],
   "execution_count": null,
   "outputs": []
  },
  {
   "metadata": {
    "id": "UDL3T_6Fsn5n"
   },
   "cell_type": "markdown",
   "source": [
    "9.From two stocks in Part 6. If an intestor invest 0.5 million THB on Stock 1 and 0.5 million THB on Stock 2 on January 1, 2020. How much money an investor has at the end of December 21, 2020? \n",
    "\n",
    "Answer _________________"
   ]
  },
  {
   "metadata": {
    "id": "4PqZkgGU6gG9",
    "trusted": false
   },
   "cell_type": "code",
   "source": [
    "# put you code for 9 here."
   ],
   "execution_count": null,
   "outputs": []
  }
 ],
 "metadata": {
  "kernelspec": {
   "name": "pycharm-22aa8624",
   "language": "python",
   "display_name": "PyCharm (Assignment 3)"
  },
  "language_info": {
   "name": "python",
   "version": "3.9.2-final",
   "mimetype": "text/x-python",
   "codemirror_mode": {
    "name": "ipython",
    "version": 3
   },
   "pygments_lexer": "ipython3",
   "nbconvert_exporter": "python",
   "file_extension": ".py"
  }
 },
 "nbformat": 4,
 "nbformat_minor": 4
}
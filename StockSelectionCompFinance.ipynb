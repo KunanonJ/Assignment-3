{
  "nbformat": 4,
  "nbformat_minor": 0,
  "metadata": {
    "colab": {
      "name": "StockSelectionCompFinance.ipynb",
      "provenance": []
    },
    "kernelspec": {
      "name": "python3",
      "display_name": "Python 3"
    }
  },
  "cells": [
    {
      "cell_type": "markdown",
      "metadata": {
        "id": "VMjP_pZMkEzs"
      },
      "source": [
        "# Assignment 3 \r\n",
        "Statistics for understanding the market\r\n",
        "\r\n"
      ]
    },
    {
      "cell_type": "markdown",
      "metadata": {
        "id": "0IdGmp3kkXf4"
      },
      "source": [
        "In this assignment, your goal is to find the stocks that is well suited for your investment. The list below is the step-by-step to choose the stock."
      ]
    },
    {
      "cell_type": "markdown",
      "metadata": {
        "id": "Ons3z71UklhC"
      },
      "source": [
        "1. Use Python to donwload the historical prices from Jaunary 1, 2020 to December 21, 2020 from Yahoo Finance. Here, we are interested in the top 48 stocks in the market. All symbols of all 48 stocks are given in the \"set48.txt\" attached with the assignment in Google Classroom. \r\n"
      ]
    },
    {
      "cell_type": "code",
      "metadata": {
        "id": "COSJBnIfkEBo"
      },
      "source": [
        "# Put your code for the item 1 here"
      ],
      "execution_count": null,
      "outputs": []
    },
    {
      "cell_type": "markdown",
      "metadata": {
        "id": "5fO0XBiJled6"
      },
      "source": [
        "2. Next, you want to find the top **five** stocks with the highest average return. Please add the average annualized return (RET) of the top five stock by computing the average daily return and multiply with 250 (Here, we assume that there are 250 trading days in a year.). You must put your results by filling the blank below:\r\n",
        "The stocks are\r\n",
        "\r\n",
        "\r\n",
        "  1.  ______________________ with ________________ % of return\r\n",
        "  2.   ______________________ with ________________ % of return\r\n",
        "  3.   ______________________ with ________________ % of return\r\n",
        "  4.   ______________________ with ________________ % of return\r\n",
        "  5.   ______________________ with ________________ % of return\r\n"
      ]
    },
    {
      "cell_type": "code",
      "metadata": {
        "id": "NMNT2HTSmtEr"
      },
      "source": [
        "# put your code for finding the top five stocks with the highest average return here."
      ],
      "execution_count": null,
      "outputs": []
    },
    {
      "cell_type": "markdown",
      "metadata": {
        "id": "jtgDUjCsmzzF"
      },
      "source": [
        "3. You also concern about the risk. As a result, you want stock with the lowest volatility. Here. the volatilities are measured by the standard deviations (STDs), Report stocks with the five lowest volatilities and compute their corresponding annualized STD by multiply the daily STD with the square root of 250.(√250  )  \r\n",
        "The stocks are \r\n",
        "  1.   ______ with ____ % of volatility\r\n",
        "  2.   ______ with ____ % of volatility\r\n",
        "  3.   ______ with ____ % of volatility\r\n",
        "  4.   ______ with ____ % of volatility\r\n",
        "  5.   ______ with ____ % of volatility"
      ]
    },
    {
      "cell_type": "code",
      "metadata": {
        "id": "mR8QCIIQn9qT"
      },
      "source": [
        "# put your code for finding the top five stocks with the lowest average volatilities here."
      ],
      "execution_count": null,
      "outputs": []
    },
    {
      "cell_type": "markdown",
      "metadata": {
        "id": "cnPGnQ4Fo-6b"
      },
      "source": [
        "4. Furthermore, the volatility and return should be compared. A stock with the same level of return the one with lower volatility is more preferable. Thus, in this part, you will compute the coefficient of variation (CV) defined as (STD/RET). Here, a stock with lower CV is less volatile. However, we should look only the stock with positive return. Hence, find the op 5 stocks with the **lowest CV** and the **positive return**:\r\n",
        "\r\n",
        "The stocks are\r\n",
        "  1.   ______ with CV of ____ \r\n",
        "  2.   ______ with CV of ____ \r\n",
        "  3.   ______ with CV of ____ \r\n",
        "  4.   ______ with CV of ____ \r\n",
        "  5.   ______ with CV of ____ \r\n",
        "\r\n"
      ]
    },
    {
      "cell_type": "code",
      "metadata": {
        "id": "wImT3O_AoSE7"
      },
      "source": [
        "# put your code for finding the top five stocks with the lowest CVs here."
      ],
      "execution_count": null,
      "outputs": []
    },
    {
      "cell_type": "markdown",
      "metadata": {
        "id": "N9igc9lyq29w"
      },
      "source": [
        "5. From the stock in Part 4. Use the stock with lowest CV and plot histogram of the annualized return.\r\n"
      ]
    },
    {
      "cell_type": "code",
      "metadata": {
        "id": "MOQu1SNAqzU2"
      },
      "source": [
        "# put your code for plot histogram and histogram here."
      ],
      "execution_count": null,
      "outputs": []
    },
    {
      "cell_type": "markdown",
      "metadata": {
        "id": "lQ0ORUNarJ6e"
      },
      "source": [
        "6. The investment is risky. To control the risk, a good investor will diversify their portfolio with securities that have negative correlations. Find the two stocks with lowest (more negative) correlations \r\n",
        "Stock 1_________ Stock 2__________ with correlation of ___________________."
      ]
    },
    {
      "cell_type": "code",
      "metadata": {
        "id": "IVGtFmw8r0NN"
      },
      "source": [
        "# put your code fo finding stocks with lowest correlation here."
      ],
      "execution_count": null,
      "outputs": []
    },
    {
      "cell_type": "markdown",
      "metadata": {
        "id": "g1THy2_tr9u0"
      },
      "source": [
        "7.From two stocks in Part 6. If an intestor invest 1 million THB on Stock 1 alone on January 1, 2020. How much money an investor has at the end of December 21, 2020? Answer _______________________"
      ]
    },
    {
      "cell_type": "code",
      "metadata": {
        "id": "Xj4Q56Y_r9Cs"
      },
      "source": [
        "# put you code for 7 here."
      ],
      "execution_count": null,
      "outputs": []
    },
    {
      "cell_type": "markdown",
      "metadata": {
        "id": "lMWDB1wwsdG3"
      },
      "source": [
        "8.From two stocks in Part 6. If an intestor invest 1 million THB on Stock 2 alone on January 1, 2020. How much money an investor has at the end of December 21, 2020? Answer _______________________"
      ]
    },
    {
      "cell_type": "code",
      "metadata": {
        "id": "sMO7Uzi0smBO"
      },
      "source": [
        "# put you code for 8 here."
      ],
      "execution_count": null,
      "outputs": []
    },
    {
      "cell_type": "markdown",
      "metadata": {
        "id": "UDL3T_6Fsn5n"
      },
      "source": [
        "9.From two stocks in Part 6. If an intestor invest 0.5 million THB on Stock 1 and 0.5 million THB on Stock 2 on January 1, 2020. How much money an investor has at the end of December 21, 2020? Answer _________________"
      ]
    },
    {
      "cell_type": "code",
      "metadata": {
        "id": "4PqZkgGU6gG9"
      },
      "source": [
        "# put you code for 9 here."
      ],
      "execution_count": null,
      "outputs": []
    }
  ]
}